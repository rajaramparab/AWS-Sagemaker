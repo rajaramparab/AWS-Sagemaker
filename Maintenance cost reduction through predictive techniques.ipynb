{
 "cells": [
  {
   "cell_type": "code",
   "execution_count": 16,
   "metadata": {},
   "outputs": [],
   "source": [
    "import pandas as pd\n",
    "import numpy as np\n",
    "import matplotlib.pyplot as plt\n",
    "import seaborn as sns\n",
    "%matplotlib inline\n",
    "from sklearn.model_selection import train_test_split\n",
    "from sklearn.preprocessing import OneHotEncoder,Normalizer,StandardScaler\n",
    "import warnings\n",
    "warnings.filterwarnings(\"ignore\")\n",
    "import scipy as sp\n"
   ]
  },
  {
   "cell_type": "code",
   "execution_count": 2,
   "metadata": {},
   "outputs": [],
   "source": [
    "data=pd.read_csv(\"predictive_maintenance.csv\")"
   ]
  },
  {
   "cell_type": "code",
   "execution_count": 3,
   "metadata": {},
   "outputs": [
    {
     "name": "stdout",
     "output_type": "stream",
     "text": [
      "No of  Datapoints: 124494 \n",
      "No. of Features(including Target class): 12\n"
     ]
    }
   ],
   "source": [
    "print(\"No of  Datapoints: {} \\nNo. of Features(including Target class): {}\".format(data.shape[0],data.shape[1]))"
   ]
  },
  {
   "cell_type": "code",
   "execution_count": 4,
   "metadata": {},
   "outputs": [
    {
     "data": {
      "text/plain": [
       "Index(['date', 'device', 'failure', 'metric1', 'metric2', 'metric3', 'metric4',\n",
       "       'metric5', 'metric6', 'metric7', 'metric8', 'metric9'],\n",
       "      dtype='object')"
      ]
     },
     "execution_count": 4,
     "metadata": {},
     "output_type": "execute_result"
    }
   ],
   "source": [
    "data.columns"
   ]
  },
  {
   "cell_type": "code",
   "execution_count": 5,
   "metadata": {},
   "outputs": [
    {
     "data": {
      "text/html": [
       "<div>\n",
       "<style scoped>\n",
       "    .dataframe tbody tr th:only-of-type {\n",
       "        vertical-align: middle;\n",
       "    }\n",
       "\n",
       "    .dataframe tbody tr th {\n",
       "        vertical-align: top;\n",
       "    }\n",
       "\n",
       "    .dataframe thead th {\n",
       "        text-align: right;\n",
       "    }\n",
       "</style>\n",
       "<table border=\"1\" class=\"dataframe\">\n",
       "  <thead>\n",
       "    <tr style=\"text-align: right;\">\n",
       "      <th></th>\n",
       "      <th>date</th>\n",
       "      <th>device</th>\n",
       "      <th>failure</th>\n",
       "      <th>metric1</th>\n",
       "      <th>metric2</th>\n",
       "      <th>metric3</th>\n",
       "      <th>metric4</th>\n",
       "      <th>metric5</th>\n",
       "      <th>metric6</th>\n",
       "      <th>metric7</th>\n",
       "      <th>metric8</th>\n",
       "      <th>metric9</th>\n",
       "    </tr>\n",
       "  </thead>\n",
       "  <tbody>\n",
       "    <tr>\n",
       "      <td>0</td>\n",
       "      <td>1/1/15</td>\n",
       "      <td>S1F01085</td>\n",
       "      <td>0</td>\n",
       "      <td>215630672</td>\n",
       "      <td>56</td>\n",
       "      <td>0</td>\n",
       "      <td>52</td>\n",
       "      <td>6</td>\n",
       "      <td>407438</td>\n",
       "      <td>0</td>\n",
       "      <td>0</td>\n",
       "      <td>7</td>\n",
       "    </tr>\n",
       "    <tr>\n",
       "      <td>1</td>\n",
       "      <td>1/1/15</td>\n",
       "      <td>S1F0166B</td>\n",
       "      <td>0</td>\n",
       "      <td>61370680</td>\n",
       "      <td>0</td>\n",
       "      <td>3</td>\n",
       "      <td>0</td>\n",
       "      <td>6</td>\n",
       "      <td>403174</td>\n",
       "      <td>0</td>\n",
       "      <td>0</td>\n",
       "      <td>0</td>\n",
       "    </tr>\n",
       "    <tr>\n",
       "      <td>2</td>\n",
       "      <td>1/1/15</td>\n",
       "      <td>S1F01E6Y</td>\n",
       "      <td>0</td>\n",
       "      <td>173295968</td>\n",
       "      <td>0</td>\n",
       "      <td>0</td>\n",
       "      <td>0</td>\n",
       "      <td>12</td>\n",
       "      <td>237394</td>\n",
       "      <td>0</td>\n",
       "      <td>0</td>\n",
       "      <td>0</td>\n",
       "    </tr>\n",
       "    <tr>\n",
       "      <td>3</td>\n",
       "      <td>1/1/15</td>\n",
       "      <td>S1F01JE0</td>\n",
       "      <td>0</td>\n",
       "      <td>79694024</td>\n",
       "      <td>0</td>\n",
       "      <td>0</td>\n",
       "      <td>0</td>\n",
       "      <td>6</td>\n",
       "      <td>410186</td>\n",
       "      <td>0</td>\n",
       "      <td>0</td>\n",
       "      <td>0</td>\n",
       "    </tr>\n",
       "    <tr>\n",
       "      <td>4</td>\n",
       "      <td>1/1/15</td>\n",
       "      <td>S1F01R2B</td>\n",
       "      <td>0</td>\n",
       "      <td>135970480</td>\n",
       "      <td>0</td>\n",
       "      <td>0</td>\n",
       "      <td>0</td>\n",
       "      <td>15</td>\n",
       "      <td>313173</td>\n",
       "      <td>0</td>\n",
       "      <td>0</td>\n",
       "      <td>3</td>\n",
       "    </tr>\n",
       "  </tbody>\n",
       "</table>\n",
       "</div>"
      ],
      "text/plain": [
       "     date    device  failure    metric1  metric2  metric3  metric4  metric5  \\\n",
       "0  1/1/15  S1F01085        0  215630672       56        0       52        6   \n",
       "1  1/1/15  S1F0166B        0   61370680        0        3        0        6   \n",
       "2  1/1/15  S1F01E6Y        0  173295968        0        0        0       12   \n",
       "3  1/1/15  S1F01JE0        0   79694024        0        0        0        6   \n",
       "4  1/1/15  S1F01R2B        0  135970480        0        0        0       15   \n",
       "\n",
       "   metric6  metric7  metric8  metric9  \n",
       "0   407438        0        0        7  \n",
       "1   403174        0        0        0  \n",
       "2   237394        0        0        0  \n",
       "3   410186        0        0        0  \n",
       "4   313173        0        0        3  "
      ]
     },
     "execution_count": 5,
     "metadata": {},
     "output_type": "execute_result"
    }
   ],
   "source": [
    "#checking the Dataframe\n",
    "data.head()"
   ]
  },
  {
   "cell_type": "code",
   "execution_count": 6,
   "metadata": {},
   "outputs": [
    {
     "data": {
      "text/plain": [
       "date       0\n",
       "device     0\n",
       "failure    0\n",
       "metric1    0\n",
       "metric2    0\n",
       "metric3    0\n",
       "metric4    0\n",
       "metric5    0\n",
       "metric6    0\n",
       "metric7    0\n",
       "metric8    0\n",
       "metric9    0\n",
       "dtype: int64"
      ]
     },
     "execution_count": 6,
     "metadata": {},
     "output_type": "execute_result"
    }
   ],
   "source": [
    "#checking for Null values\n",
    "data.isnull().sum()"
   ]
  },
  {
   "cell_type": "code",
   "execution_count": 7,
   "metadata": {},
   "outputs": [
    {
     "name": "stdout",
     "output_type": "stream",
     "text": [
      "<class 'pandas.core.frame.DataFrame'>\n",
      "RangeIndex: 124494 entries, 0 to 124493\n",
      "Data columns (total 12 columns):\n",
      "date       124494 non-null object\n",
      "device     124494 non-null object\n",
      "failure    124494 non-null int64\n",
      "metric1    124494 non-null int64\n",
      "metric2    124494 non-null int64\n",
      "metric3    124494 non-null int64\n",
      "metric4    124494 non-null int64\n",
      "metric5    124494 non-null int64\n",
      "metric6    124494 non-null int64\n",
      "metric7    124494 non-null int64\n",
      "metric8    124494 non-null int64\n",
      "metric9    124494 non-null int64\n",
      "dtypes: int64(10), object(2)\n",
      "memory usage: 11.4+ MB\n"
     ]
    }
   ],
   "source": [
    "#checking features information\n",
    "data.info()"
   ]
  },
  {
   "cell_type": "code",
   "execution_count": 8,
   "metadata": {},
   "outputs": [
    {
     "data": {
      "text/plain": [
       "1/1/15      1163\n",
       "1/3/15      1163\n",
       "1/2/15      1163\n",
       "1/4/15      1162\n",
       "1/5/15      1161\n",
       "            ... \n",
       "10/31/15      31\n",
       "10/30/15      31\n",
       "10/29/15      31\n",
       "10/27/15      31\n",
       "11/2/15       31\n",
       "Name: date, Length: 304, dtype: int64"
      ]
     },
     "execution_count": 8,
     "metadata": {},
     "output_type": "execute_result"
    }
   ],
   "source": [
    "data['date'].value_counts()"
   ]
  },
  {
   "cell_type": "code",
   "execution_count": 9,
   "metadata": {},
   "outputs": [
    {
     "data": {
      "text/plain": [
       "S1F0FP0C    304\n",
       "Z1F0GB8A    304\n",
       "W1F0JXDL    304\n",
       "S1F0GGPP    304\n",
       "Z1F0QL3N    304\n",
       "           ... \n",
       "Z1F0LT4K      5\n",
       "W1F0LYBN      5\n",
       "S1F04KSC      4\n",
       "W1F0WJFT      3\n",
       "W1F1DA5ÿ      1\n",
       "Name: device, Length: 1169, dtype: int64"
      ]
     },
     "execution_count": 9,
     "metadata": {},
     "output_type": "execute_result"
    }
   ],
   "source": [
    "data['device'].value_counts()"
   ]
  },
  {
   "cell_type": "code",
   "execution_count": 10,
   "metadata": {},
   "outputs": [
    {
     "data": {
      "text/html": [
       "<div>\n",
       "<style scoped>\n",
       "    .dataframe tbody tr th:only-of-type {\n",
       "        vertical-align: middle;\n",
       "    }\n",
       "\n",
       "    .dataframe tbody tr th {\n",
       "        vertical-align: top;\n",
       "    }\n",
       "\n",
       "    .dataframe thead th {\n",
       "        text-align: right;\n",
       "    }\n",
       "</style>\n",
       "<table border=\"1\" class=\"dataframe\">\n",
       "  <thead>\n",
       "    <tr style=\"text-align: right;\">\n",
       "      <th></th>\n",
       "      <th>failure</th>\n",
       "      <th>metric1</th>\n",
       "      <th>metric2</th>\n",
       "      <th>metric3</th>\n",
       "      <th>metric4</th>\n",
       "      <th>metric5</th>\n",
       "      <th>metric6</th>\n",
       "      <th>metric7</th>\n",
       "      <th>metric8</th>\n",
       "      <th>metric9</th>\n",
       "    </tr>\n",
       "  </thead>\n",
       "  <tbody>\n",
       "    <tr>\n",
       "      <td>count</td>\n",
       "      <td>124494.000000</td>\n",
       "      <td>1.244940e+05</td>\n",
       "      <td>124494.000000</td>\n",
       "      <td>124494.000000</td>\n",
       "      <td>124494.000000</td>\n",
       "      <td>124494.000000</td>\n",
       "      <td>124494.000000</td>\n",
       "      <td>124494.000000</td>\n",
       "      <td>124494.000000</td>\n",
       "      <td>124494.000000</td>\n",
       "    </tr>\n",
       "    <tr>\n",
       "      <td>mean</td>\n",
       "      <td>0.000851</td>\n",
       "      <td>1.223881e+08</td>\n",
       "      <td>159.484762</td>\n",
       "      <td>9.940455</td>\n",
       "      <td>1.741120</td>\n",
       "      <td>14.222669</td>\n",
       "      <td>260172.657726</td>\n",
       "      <td>0.292528</td>\n",
       "      <td>0.292528</td>\n",
       "      <td>12.451524</td>\n",
       "    </tr>\n",
       "    <tr>\n",
       "      <td>std</td>\n",
       "      <td>0.029167</td>\n",
       "      <td>7.045933e+07</td>\n",
       "      <td>2179.657730</td>\n",
       "      <td>185.747321</td>\n",
       "      <td>22.908507</td>\n",
       "      <td>15.943028</td>\n",
       "      <td>99151.078547</td>\n",
       "      <td>7.436924</td>\n",
       "      <td>7.436924</td>\n",
       "      <td>191.425623</td>\n",
       "    </tr>\n",
       "    <tr>\n",
       "      <td>min</td>\n",
       "      <td>0.000000</td>\n",
       "      <td>0.000000e+00</td>\n",
       "      <td>0.000000</td>\n",
       "      <td>0.000000</td>\n",
       "      <td>0.000000</td>\n",
       "      <td>1.000000</td>\n",
       "      <td>8.000000</td>\n",
       "      <td>0.000000</td>\n",
       "      <td>0.000000</td>\n",
       "      <td>0.000000</td>\n",
       "    </tr>\n",
       "    <tr>\n",
       "      <td>25%</td>\n",
       "      <td>0.000000</td>\n",
       "      <td>6.128476e+07</td>\n",
       "      <td>0.000000</td>\n",
       "      <td>0.000000</td>\n",
       "      <td>0.000000</td>\n",
       "      <td>8.000000</td>\n",
       "      <td>221452.000000</td>\n",
       "      <td>0.000000</td>\n",
       "      <td>0.000000</td>\n",
       "      <td>0.000000</td>\n",
       "    </tr>\n",
       "    <tr>\n",
       "      <td>50%</td>\n",
       "      <td>0.000000</td>\n",
       "      <td>1.227974e+08</td>\n",
       "      <td>0.000000</td>\n",
       "      <td>0.000000</td>\n",
       "      <td>0.000000</td>\n",
       "      <td>10.000000</td>\n",
       "      <td>249799.500000</td>\n",
       "      <td>0.000000</td>\n",
       "      <td>0.000000</td>\n",
       "      <td>0.000000</td>\n",
       "    </tr>\n",
       "    <tr>\n",
       "      <td>75%</td>\n",
       "      <td>0.000000</td>\n",
       "      <td>1.833096e+08</td>\n",
       "      <td>0.000000</td>\n",
       "      <td>0.000000</td>\n",
       "      <td>0.000000</td>\n",
       "      <td>12.000000</td>\n",
       "      <td>310266.000000</td>\n",
       "      <td>0.000000</td>\n",
       "      <td>0.000000</td>\n",
       "      <td>0.000000</td>\n",
       "    </tr>\n",
       "    <tr>\n",
       "      <td>max</td>\n",
       "      <td>1.000000</td>\n",
       "      <td>2.441405e+08</td>\n",
       "      <td>64968.000000</td>\n",
       "      <td>24929.000000</td>\n",
       "      <td>1666.000000</td>\n",
       "      <td>98.000000</td>\n",
       "      <td>689161.000000</td>\n",
       "      <td>832.000000</td>\n",
       "      <td>832.000000</td>\n",
       "      <td>18701.000000</td>\n",
       "    </tr>\n",
       "  </tbody>\n",
       "</table>\n",
       "</div>"
      ],
      "text/plain": [
       "             failure       metric1        metric2        metric3  \\\n",
       "count  124494.000000  1.244940e+05  124494.000000  124494.000000   \n",
       "mean        0.000851  1.223881e+08     159.484762       9.940455   \n",
       "std         0.029167  7.045933e+07    2179.657730     185.747321   \n",
       "min         0.000000  0.000000e+00       0.000000       0.000000   \n",
       "25%         0.000000  6.128476e+07       0.000000       0.000000   \n",
       "50%         0.000000  1.227974e+08       0.000000       0.000000   \n",
       "75%         0.000000  1.833096e+08       0.000000       0.000000   \n",
       "max         1.000000  2.441405e+08   64968.000000   24929.000000   \n",
       "\n",
       "             metric4        metric5        metric6        metric7  \\\n",
       "count  124494.000000  124494.000000  124494.000000  124494.000000   \n",
       "mean        1.741120      14.222669  260172.657726       0.292528   \n",
       "std        22.908507      15.943028   99151.078547       7.436924   \n",
       "min         0.000000       1.000000       8.000000       0.000000   \n",
       "25%         0.000000       8.000000  221452.000000       0.000000   \n",
       "50%         0.000000      10.000000  249799.500000       0.000000   \n",
       "75%         0.000000      12.000000  310266.000000       0.000000   \n",
       "max      1666.000000      98.000000  689161.000000     832.000000   \n",
       "\n",
       "             metric8        metric9  \n",
       "count  124494.000000  124494.000000  \n",
       "mean        0.292528      12.451524  \n",
       "std         7.436924     191.425623  \n",
       "min         0.000000       0.000000  \n",
       "25%         0.000000       0.000000  \n",
       "50%         0.000000       0.000000  \n",
       "75%         0.000000       0.000000  \n",
       "max       832.000000   18701.000000  "
      ]
     },
     "execution_count": 10,
     "metadata": {},
     "output_type": "execute_result"
    }
   ],
   "source": [
    "data.describe()"
   ]
  },
  {
   "cell_type": "code",
   "execution_count": null,
   "metadata": {},
   "outputs": [],
   "source": []
  },
  {
   "cell_type": "code",
   "execution_count": 11,
   "metadata": {},
   "outputs": [
    {
     "data": {
      "text/plain": [
       "failure    34.227194\n",
       "metric1    -0.011143\n",
       "metric2    23.857923\n",
       "metric3    82.712278\n",
       "metric4    41.502611\n",
       "metric5     3.483679\n",
       "metric6    -0.375285\n",
       "metric7    73.476456\n",
       "metric8    73.476456\n",
       "metric9    49.899278\n",
       "dtype: float64"
      ]
     },
     "execution_count": 11,
     "metadata": {},
     "output_type": "execute_result"
    }
   ],
   "source": [
    "#some features looks skewed\n",
    "data.skew()"
   ]
  },
  {
   "cell_type": "code",
   "execution_count": 12,
   "metadata": {},
   "outputs": [
    {
     "data": {
      "text/plain": [
       "True"
      ]
     },
     "execution_count": 12,
     "metadata": {},
     "output_type": "execute_result"
    }
   ],
   "source": [
    "# Looks like metric7 and metric8 are has same features,if so we will have to drop one of them to avoid Multicollinearity\n",
    "data['metric7'].equals(data['metric8'])"
   ]
  },
  {
   "cell_type": "code",
   "execution_count": 13,
   "metadata": {},
   "outputs": [
    {
     "data": {
      "text/plain": [
       "0    124388\n",
       "1       106\n",
       "Name: failure, dtype: int64"
      ]
     },
     "execution_count": 13,
     "metadata": {},
     "output_type": "execute_result"
    }
   ],
   "source": [
    "#checking for imbalance\n",
    "data['failure'].value_counts()"
   ]
  },
  {
   "cell_type": "code",
   "execution_count": 14,
   "metadata": {},
   "outputs": [
    {
     "data": {
      "text/plain": [
       "0    99.914855\n",
       "1     0.085145\n",
       "Name: failure, dtype: float64"
      ]
     },
     "execution_count": 14,
     "metadata": {},
     "output_type": "execute_result"
    }
   ],
   "source": [
    "(data['failure'].value_counts()/(data['failure'].value_counts().sum()))*100"
   ]
  },
  {
   "cell_type": "markdown",
   "metadata": {},
   "source": [
    "We can see that Dataset is Highly Imbalanced"
   ]
  },
  {
   "cell_type": "markdown",
   "metadata": {},
   "source": [
    "### Conclusions:\n",
    "<table>\n",
    "    <header><th><tr><td> Sr No. </td><td> Observation </td><td>Observed</td> <td>Action</td></tr></th></header>\n",
    "    <tr><td> 1. </td><td> No. of DataPoints </td><td>124494</td> <td>-</td></tr>\n",
    "    <tr><td> 2. </td><td> No. of Features</td><td>11</td> <td>-</td></tr>\n",
    "    <tr><td> 3. </td><td> Target Variable </td><td>failure</td> <td>-</td></tr>\n",
    "    <tr><td> 4. </td><td> No. of NULLs </td><td>0</td> <td>No action Required</td></tr>\n",
    "    <tr><td> 5. </td><td> Class Imbalance </td><td>High</td> <td>0.085/99.915 use proper weights/scale</td></tr>\n",
    "    <tr><td> 6. </td><td> metric7 and metric8 </td><td>Identical</td> <td>Drop one</td></tr>\n",
    "    <tr><td> 7. </td><td> Skewness</td><td>metric2,metric3,metric4,metric5,metric7,metric8,metric9 </td> <td>Log/Box-cox Transform or Use Non-Parametric Techniques</td></tr>\n",
    "     \n",
    "    \n",
    "\n",
    "</table>"
   ]
  },
  {
   "cell_type": "code",
   "execution_count": 17,
   "metadata": {},
   "outputs": [
    {
     "name": "stdout",
     "output_type": "stream",
     "text": [
      "[0.04747772 0.07316993 0.07316993 ... 2.14370079 0.07316993 0.07316993]\n"
     ]
    }
   ],
   "source": [
    "z = np.abs(sp.stats.zscore(data['metric2']))\n",
    "print(z)"
   ]
  },
  {
   "cell_type": "code",
   "execution_count": null,
   "metadata": {},
   "outputs": [],
   "source": []
  },
  {
   "cell_type": "code",
   "execution_count": null,
   "metadata": {},
   "outputs": [],
   "source": []
  },
  {
   "cell_type": "markdown",
   "metadata": {},
   "source": [
    "## EDA"
   ]
  },
  {
   "cell_type": "code",
   "execution_count": 18,
   "metadata": {},
   "outputs": [
    {
     "data": {
      "text/plain": [
       "<matplotlib.axes._subplots.AxesSubplot at 0x1e940fd74e0>"
      ]
     },
     "execution_count": 18,
     "metadata": {},
     "output_type": "execute_result"
    },
    {
     "data": {
      "image/png": "[encoded data removed]",
      "text/plain": [
       "<Figure size 432x288 with 1 Axes>"
      ]
     },
     "metadata": {
      "needs_background": "light"
     },
     "output_type": "display_data"
    }
   ],
   "source": [
    "sns.countplot(data['failure'],data=data['failure'].value_counts())"
   ]
  },
  {
   "cell_type": "code",
   "execution_count": 19,
   "metadata": {},
   "outputs": [
    {
     "data": {
      "text/plain": [
       "<matplotlib.axes._subplots.AxesSubplot at 0x1e941524208>"
      ]
     },
     "execution_count": 19,
     "metadata": {},
     "output_type": "execute_result"
    },
    {
     "data": {
      "image/png": "[encoded data removed]",
      "text/plain": [
       "<Figure size 432x288 with 1 Axes>"
      ]
     },
     "metadata": {
      "needs_background": "light"
     },
     "output_type": "display_data"
    }
   ],
   "source": [
    "sns.boxplot(x='failure',y='metric1',data=data)"
   ]
  },
  {
   "cell_type": "code",
   "execution_count": null,
   "metadata": {},
   "outputs": [],
   "source": []
  },
  {
   "cell_type": "code",
   "execution_count": 20,
   "metadata": {},
   "outputs": [
    {
     "data": {
      "text/plain": [
       "<matplotlib.axes._subplots.AxesSubplot at 0x1e9415aabe0>"
      ]
     },
     "execution_count": 20,
     "metadata": {},
     "output_type": "execute_result"
    },
    {
     "data": {
      "image/png": "[encoded data removed]",
      "text/plain": [
       "<Figure size 432x288 with 1 Axes>"
      ]
     },
     "metadata": {
      "needs_background": "light"
     },
     "output_type": "display_data"
    }
   ],
   "source": [
    "sns.boxplot(x='failure',y='metric2',data=data)"
   ]
  },
  {
   "cell_type": "code",
   "execution_count": 21,
   "metadata": {},
   "outputs": [
    {
     "data": {
      "text/plain": [
       "0    176\n",
       "1      4\n",
       "Name: failure, dtype: int64"
      ]
     },
     "execution_count": 21,
     "metadata": {},
     "output_type": "execute_result"
    }
   ],
   "source": [
    "data[data['metric2']>30000]['failure'].value_counts()"
   ]
  },
  {
   "cell_type": "code",
   "execution_count": 22,
   "metadata": {},
   "outputs": [
    {
     "data": {
      "text/plain": [
       "<matplotlib.axes._subplots.AxesSubplot at 0x1e941615908>"
      ]
     },
     "execution_count": 22,
     "metadata": {},
     "output_type": "execute_result"
    },
    {
     "data": {
      "image/png": "[encoded data removed]",
      "text/plain": [
       "<Figure size 432x288 with 1 Axes>"
      ]
     },
     "metadata": {
      "needs_background": "light"
     },
     "output_type": "display_data"
    }
   ],
   "source": [
    "sns.boxplot(x='failure',y='metric3',data=data)"
   ]
  },
  {
   "cell_type": "code",
   "execution_count": 23,
   "metadata": {},
   "outputs": [
    {
     "data": {
      "text/plain": [
       "0    4\n",
       "Name: failure, dtype: int64"
      ]
     },
     "execution_count": 23,
     "metadata": {},
     "output_type": "execute_result"
    }
   ],
   "source": [
    "data[data['metric3']>2693]['failure'].value_counts()"
   ]
  },
  {
   "cell_type": "code",
   "execution_count": null,
   "metadata": {},
   "outputs": [],
   "source": []
  },
  {
   "cell_type": "code",
   "execution_count": 24,
   "metadata": {},
   "outputs": [
    {
     "data": {
      "text/plain": [
       "<matplotlib.axes._subplots.AxesSubplot at 0x1e941687dd8>"
      ]
     },
     "execution_count": 24,
     "metadata": {},
     "output_type": "execute_result"
    },
    {
     "data": {
      "image/png": "[encoded data removed]",
      "text/plain": [
       "<Figure size 432x288 with 1 Axes>"
      ]
     },
     "metadata": {
      "needs_background": "light"
     },
     "output_type": "display_data"
    }
   ],
   "source": [
    "sns.boxplot(x='failure',y='metric4',data=data)"
   ]
  },
  {
   "cell_type": "code",
   "execution_count": 25,
   "metadata": {},
   "outputs": [
    {
     "data": {
      "text/plain": [
       "0    95\n",
       "1     5\n",
       "Name: failure, dtype: int64"
      ]
     },
     "execution_count": 25,
     "metadata": {},
     "output_type": "execute_result"
    }
   ],
   "source": [
    "data[data['metric4']>215]['failure'].value_counts()"
   ]
  },
  {
   "cell_type": "code",
   "execution_count": null,
   "metadata": {},
   "outputs": [],
   "source": []
  },
  {
   "cell_type": "code",
   "execution_count": 26,
   "metadata": {},
   "outputs": [
    {
     "data": {
      "text/plain": [
       "<matplotlib.axes._subplots.AxesSubplot at 0x1e941706dd8>"
      ]
     },
     "execution_count": 26,
     "metadata": {},
     "output_type": "execute_result"
    },
    {
     "data": {
      "image/png": "[encoded data removed]",
      "text/plain": [
       "<Figure size 432x288 with 1 Axes>"
      ]
     },
     "metadata": {
      "needs_background": "light"
     },
     "output_type": "display_data"
    }
   ],
   "source": [
    "sns.boxplot(x='failure',y='metric5',data=data)"
   ]
  },
  {
   "cell_type": "code",
   "execution_count": 27,
   "metadata": {},
   "outputs": [
    {
     "data": {
      "text/plain": [
       "0    1120\n",
       "Name: failure, dtype: int64"
      ]
     },
     "execution_count": 27,
     "metadata": {},
     "output_type": "execute_result"
    }
   ],
   "source": [
    "data[data['metric5']>93]['failure'].value_counts()"
   ]
  },
  {
   "cell_type": "code",
   "execution_count": null,
   "metadata": {},
   "outputs": [],
   "source": []
  },
  {
   "cell_type": "code",
   "execution_count": 28,
   "metadata": {},
   "outputs": [
    {
     "data": {
      "text/plain": [
       "<matplotlib.axes._subplots.AxesSubplot at 0x1e9417777f0>"
      ]
     },
     "execution_count": 28,
     "metadata": {},
     "output_type": "execute_result"
    },
    {
     "data": {
      "image/png": "[encoded data removed]",
      "text/plain": [
       "<Figure size 432x288 with 1 Axes>"
      ]
     },
     "metadata": {
      "needs_background": "light"
     },
     "output_type": "display_data"
    }
   ],
   "source": [
    "sns.boxplot(x='failure',y='metric6',data=data)"
   ]
  },
  {
   "cell_type": "code",
   "execution_count": 29,
   "metadata": {},
   "outputs": [
    {
     "data": {
      "text/plain": [
       "0    31\n",
       "Name: failure, dtype: int64"
      ]
     },
     "execution_count": 29,
     "metadata": {},
     "output_type": "execute_result"
    }
   ],
   "source": [
    "data[data['metric6']>574800]['failure'].value_counts()"
   ]
  },
  {
   "cell_type": "code",
   "execution_count": null,
   "metadata": {},
   "outputs": [],
   "source": []
  },
  {
   "cell_type": "code",
   "execution_count": 30,
   "metadata": {},
   "outputs": [
    {
     "data": {
      "text/plain": [
       "<matplotlib.axes._subplots.AxesSubplot at 0x1e9417f90b8>"
      ]
     },
     "execution_count": 30,
     "metadata": {},
     "output_type": "execute_result"
    },
    {
     "data": {
      "image/png": "[encoded data removed]",
      "text/plain": [
       "<Figure size 432x288 with 1 Axes>"
      ]
     },
     "metadata": {
      "needs_background": "light"
     },
     "output_type": "display_data"
    }
   ],
   "source": [
    "sns.boxplot(x='failure',y='metric7',data=data)"
   ]
  },
  {
   "cell_type": "code",
   "execution_count": 31,
   "metadata": {},
   "outputs": [
    {
     "data": {
      "text/plain": [
       "<matplotlib.axes._subplots.AxesSubplot at 0x1e941857630>"
      ]
     },
     "execution_count": 31,
     "metadata": {},
     "output_type": "execute_result"
    },
    {
     "data": {
      "image/png": "[encoded data removed]",
      "text/plain": [
       "<Figure size 432x288 with 1 Axes>"
      ]
     },
     "metadata": {
      "needs_background": "light"
     },
     "output_type": "display_data"
    }
   ],
   "source": [
    "sns.boxplot(x='failure',y='metric9',data=data)"
   ]
  },
  {
   "cell_type": "code",
   "execution_count": 32,
   "metadata": {},
   "outputs": [
    {
     "data": {
      "text/plain": [
       "0    14\n",
       "Name: failure, dtype: int64"
      ]
     },
     "execution_count": 32,
     "metadata": {},
     "output_type": "execute_result"
    }
   ],
   "source": [
    "data[data['metric9']>5000]['failure'].value_counts()"
   ]
  },
  {
   "cell_type": "code",
   "execution_count": null,
   "metadata": {},
   "outputs": [],
   "source": []
  },
  {
   "cell_type": "code",
   "execution_count": null,
   "metadata": {},
   "outputs": [],
   "source": []
  },
  {
   "cell_type": "code",
   "execution_count": 33,
   "metadata": {},
   "outputs": [],
   "source": [
    "data_an=pd.DataFrame.copy(data)"
   ]
  },
  {
   "cell_type": "code",
   "execution_count": 34,
   "metadata": {},
   "outputs": [],
   "source": [
    "#drop metric8 as its duplicate\n",
    "#thresholds to remove outliers\n",
    "#metric3-2693\n",
    "#metric5 >93\n",
    "#metric6>574800\n",
    "#metric9 >5000\n",
    "data_an.drop('metric8',axis=1,inplace=True)"
   ]
  },
  {
   "cell_type": "code",
   "execution_count": 35,
   "metadata": {},
   "outputs": [],
   "source": [
    "data_an.drop(data_an[data_an['metric3']>2693].index,inplace=True)\n"
   ]
  },
  {
   "cell_type": "code",
   "execution_count": 36,
   "metadata": {},
   "outputs": [],
   "source": [
    "data_an.drop(data_an[data_an['metric5']>93].index,inplace=True)"
   ]
  },
  {
   "cell_type": "code",
   "execution_count": 37,
   "metadata": {},
   "outputs": [],
   "source": [
    "data_an.drop(data_an[data_an['metric6']>574800].index,inplace=True)"
   ]
  },
  {
   "cell_type": "code",
   "execution_count": 38,
   "metadata": {},
   "outputs": [],
   "source": [
    "data_an.drop(data_an[data_an['metric9']>5000].index,inplace=True)"
   ]
  },
  {
   "cell_type": "code",
   "execution_count": 39,
   "metadata": {},
   "outputs": [
    {
     "data": {
      "text/plain": [
       "0    123223\n",
       "1       106\n",
       "Name: failure, dtype: int64"
      ]
     },
     "execution_count": 39,
     "metadata": {},
     "output_type": "execute_result"
    }
   ],
   "source": [
    "data_an['failure'].value_counts()"
   ]
  },
  {
   "cell_type": "markdown",
   "metadata": {},
   "source": [
    "## Feature Engineering and Preprocessing"
   ]
  },
  {
   "cell_type": "code",
   "execution_count": 210,
   "metadata": {},
   "outputs": [],
   "source": [
    "data_fe=pd.DataFrame.copy(data_an)"
   ]
  },
  {
   "cell_type": "code",
   "execution_count": 211,
   "metadata": {},
   "outputs": [],
   "source": [
    "#Converting Date to pandas datetime\n",
    "data_fe['date']= pd.to_datetime(data_fe['date'],errors=\"coerce\")"
   ]
  },
  {
   "cell_type": "code",
   "execution_count": 212,
   "metadata": {},
   "outputs": [],
   "source": [
    "#Extracting features from date\n",
    "data_fe['year'] = data_fe['date'].dt.year\n",
    "data_fe['month'] = data_fe['date'].dt.month\n",
    "data_fe['week'] = data_fe['date'].dt.week\n",
    "data_fe['day'] = data_fe['date'].dt.day\n",
    "data_fe['dayofweek'] = data_fe['date'].dt.dayofweek"
   ]
  },
  {
   "cell_type": "code",
   "execution_count": 213,
   "metadata": {},
   "outputs": [
    {
     "data": {
      "text/html": [
       "<div>\n",
       "<style scoped>\n",
       "    .dataframe tbody tr th:only-of-type {\n",
       "        vertical-align: middle;\n",
       "    }\n",
       "\n",
       "    .dataframe tbody tr th {\n",
       "        vertical-align: top;\n",
       "    }\n",
       "\n",
       "    .dataframe thead th {\n",
       "        text-align: right;\n",
       "    }\n",
       "</style>\n",
       "<table border=\"1\" class=\"dataframe\">\n",
       "  <thead>\n",
       "    <tr style=\"text-align: right;\">\n",
       "      <th>failure</th>\n",
       "      <th>0</th>\n",
       "      <th>1</th>\n",
       "    </tr>\n",
       "    <tr>\n",
       "      <th>dayofweek</th>\n",
       "      <th></th>\n",
       "      <th></th>\n",
       "    </tr>\n",
       "  </thead>\n",
       "  <tbody>\n",
       "    <tr>\n",
       "      <td>0</td>\n",
       "      <td>17692</td>\n",
       "      <td>27</td>\n",
       "    </tr>\n",
       "    <tr>\n",
       "      <td>1</td>\n",
       "      <td>17355</td>\n",
       "      <td>18</td>\n",
       "    </tr>\n",
       "    <tr>\n",
       "      <td>2</td>\n",
       "      <td>16956</td>\n",
       "      <td>15</td>\n",
       "    </tr>\n",
       "    <tr>\n",
       "      <td>3</td>\n",
       "      <td>17951</td>\n",
       "      <td>22</td>\n",
       "    </tr>\n",
       "    <tr>\n",
       "      <td>4</td>\n",
       "      <td>17861</td>\n",
       "      <td>12</td>\n",
       "    </tr>\n",
       "    <tr>\n",
       "      <td>5</td>\n",
       "      <td>17721</td>\n",
       "      <td>8</td>\n",
       "    </tr>\n",
       "    <tr>\n",
       "      <td>6</td>\n",
       "      <td>17687</td>\n",
       "      <td>4</td>\n",
       "    </tr>\n",
       "  </tbody>\n",
       "</table>\n",
       "</div>"
      ],
      "text/plain": [
       "failure        0   1\n",
       "dayofweek           \n",
       "0          17692  27\n",
       "1          17355  18\n",
       "2          16956  15\n",
       "3          17951  22\n",
       "4          17861  12\n",
       "5          17721   8\n",
       "6          17687   4"
      ]
     },
     "execution_count": 213,
     "metadata": {},
     "output_type": "execute_result"
    }
   ],
   "source": [
    "pd.crosstab(data_fe['dayofweek'],columns=data_fe['failure'])"
   ]
  },
  {
   "cell_type": "code",
   "execution_count": 214,
   "metadata": {},
   "outputs": [
    {
     "data": {
      "text/html": [
       "<div>\n",
       "<style scoped>\n",
       "    .dataframe tbody tr th:only-of-type {\n",
       "        vertical-align: middle;\n",
       "    }\n",
       "\n",
       "    .dataframe tbody tr th {\n",
       "        vertical-align: top;\n",
       "    }\n",
       "\n",
       "    .dataframe thead th {\n",
       "        text-align: right;\n",
       "    }\n",
       "</style>\n",
       "<table border=\"1\" class=\"dataframe\">\n",
       "  <thead>\n",
       "    <tr style=\"text-align: right;\">\n",
       "      <th>failure</th>\n",
       "      <th>0</th>\n",
       "      <th>1</th>\n",
       "    </tr>\n",
       "    <tr>\n",
       "      <th>month</th>\n",
       "      <th></th>\n",
       "      <th></th>\n",
       "    </tr>\n",
       "  </thead>\n",
       "  <tbody>\n",
       "    <tr>\n",
       "      <td>1</td>\n",
       "      <td>24832</td>\n",
       "      <td>24</td>\n",
       "    </tr>\n",
       "    <tr>\n",
       "      <td>2</td>\n",
       "      <td>19346</td>\n",
       "      <td>14</td>\n",
       "    </tr>\n",
       "    <tr>\n",
       "      <td>3</td>\n",
       "      <td>19669</td>\n",
       "      <td>9</td>\n",
       "    </tr>\n",
       "    <tr>\n",
       "      <td>4</td>\n",
       "      <td>11853</td>\n",
       "      <td>9</td>\n",
       "    </tr>\n",
       "    <tr>\n",
       "      <td>5</td>\n",
       "      <td>11130</td>\n",
       "      <td>21</td>\n",
       "    </tr>\n",
       "    <tr>\n",
       "      <td>6</td>\n",
       "      <td>10313</td>\n",
       "      <td>6</td>\n",
       "    </tr>\n",
       "    <tr>\n",
       "      <td>7</td>\n",
       "      <td>10360</td>\n",
       "      <td>16</td>\n",
       "    </tr>\n",
       "    <tr>\n",
       "      <td>8</td>\n",
       "      <td>8282</td>\n",
       "      <td>4</td>\n",
       "    </tr>\n",
       "    <tr>\n",
       "      <td>9</td>\n",
       "      <td>4470</td>\n",
       "      <td>0</td>\n",
       "    </tr>\n",
       "    <tr>\n",
       "      <td>10</td>\n",
       "      <td>2937</td>\n",
       "      <td>3</td>\n",
       "    </tr>\n",
       "    <tr>\n",
       "      <td>11</td>\n",
       "      <td>31</td>\n",
       "      <td>0</td>\n",
       "    </tr>\n",
       "  </tbody>\n",
       "</table>\n",
       "</div>"
      ],
      "text/plain": [
       "failure      0   1\n",
       "month             \n",
       "1        24832  24\n",
       "2        19346  14\n",
       "3        19669   9\n",
       "4        11853   9\n",
       "5        11130  21\n",
       "6        10313   6\n",
       "7        10360  16\n",
       "8         8282   4\n",
       "9         4470   0\n",
       "10        2937   3\n",
       "11          31   0"
      ]
     },
     "execution_count": 214,
     "metadata": {},
     "output_type": "execute_result"
    }
   ],
   "source": [
    "pd.crosstab(data_fe['month'],columns=data_fe['failure'])"
   ]
  },
  {
   "cell_type": "code",
   "execution_count": 215,
   "metadata": {
    "scrolled": true
   },
   "outputs": [
    {
     "data": {
      "text/html": [
       "<div>\n",
       "<style scoped>\n",
       "    .dataframe tbody tr th:only-of-type {\n",
       "        vertical-align: middle;\n",
       "    }\n",
       "\n",
       "    .dataframe tbody tr th {\n",
       "        vertical-align: top;\n",
       "    }\n",
       "\n",
       "    .dataframe thead th {\n",
       "        text-align: right;\n",
       "    }\n",
       "</style>\n",
       "<table border=\"1\" class=\"dataframe\">\n",
       "  <thead>\n",
       "    <tr style=\"text-align: right;\">\n",
       "      <th>failure</th>\n",
       "      <th>0</th>\n",
       "      <th>1</th>\n",
       "    </tr>\n",
       "    <tr>\n",
       "      <th>week</th>\n",
       "      <th></th>\n",
       "      <th></th>\n",
       "    </tr>\n",
       "  </thead>\n",
       "  <tbody>\n",
       "    <tr>\n",
       "      <td>1</td>\n",
       "      <td>4615</td>\n",
       "      <td>0</td>\n",
       "    </tr>\n",
       "    <tr>\n",
       "      <td>2</td>\n",
       "      <td>5992</td>\n",
       "      <td>3</td>\n",
       "    </tr>\n",
       "    <tr>\n",
       "      <td>3</td>\n",
       "      <td>5046</td>\n",
       "      <td>4</td>\n",
       "    </tr>\n",
       "    <tr>\n",
       "      <td>4</td>\n",
       "      <td>4939</td>\n",
       "      <td>12</td>\n",
       "    </tr>\n",
       "    <tr>\n",
       "      <td>5</td>\n",
       "      <td>4947</td>\n",
       "      <td>5</td>\n",
       "    </tr>\n",
       "    <tr>\n",
       "      <td>6</td>\n",
       "      <td>4942</td>\n",
       "      <td>6</td>\n",
       "    </tr>\n",
       "    <tr>\n",
       "      <td>7</td>\n",
       "      <td>4945</td>\n",
       "      <td>3</td>\n",
       "    </tr>\n",
       "    <tr>\n",
       "      <td>8</td>\n",
       "      <td>4751</td>\n",
       "      <td>3</td>\n",
       "    </tr>\n",
       "    <tr>\n",
       "      <td>9</td>\n",
       "      <td>4668</td>\n",
       "      <td>2</td>\n",
       "    </tr>\n",
       "    <tr>\n",
       "      <td>10</td>\n",
       "      <td>4678</td>\n",
       "      <td>2</td>\n",
       "    </tr>\n",
       "    <tr>\n",
       "      <td>11</td>\n",
       "      <td>4697</td>\n",
       "      <td>0</td>\n",
       "    </tr>\n",
       "    <tr>\n",
       "      <td>12</td>\n",
       "      <td>4681</td>\n",
       "      <td>4</td>\n",
       "    </tr>\n",
       "    <tr>\n",
       "      <td>13</td>\n",
       "      <td>3986</td>\n",
       "      <td>3</td>\n",
       "    </tr>\n",
       "    <tr>\n",
       "      <td>14</td>\n",
       "      <td>3359</td>\n",
       "      <td>1</td>\n",
       "    </tr>\n",
       "    <tr>\n",
       "      <td>15</td>\n",
       "      <td>2905</td>\n",
       "      <td>2</td>\n",
       "    </tr>\n",
       "    <tr>\n",
       "      <td>16</td>\n",
       "      <td>2659</td>\n",
       "      <td>1</td>\n",
       "    </tr>\n",
       "    <tr>\n",
       "      <td>17</td>\n",
       "      <td>2477</td>\n",
       "      <td>2</td>\n",
       "    </tr>\n",
       "    <tr>\n",
       "      <td>18</td>\n",
       "      <td>2475</td>\n",
       "      <td>3</td>\n",
       "    </tr>\n",
       "    <tr>\n",
       "      <td>19</td>\n",
       "      <td>2675</td>\n",
       "      <td>10</td>\n",
       "    </tr>\n",
       "    <tr>\n",
       "      <td>20</td>\n",
       "      <td>2527</td>\n",
       "      <td>3</td>\n",
       "    </tr>\n",
       "    <tr>\n",
       "      <td>21</td>\n",
       "      <td>2459</td>\n",
       "      <td>6</td>\n",
       "    </tr>\n",
       "    <tr>\n",
       "      <td>22</td>\n",
       "      <td>2407</td>\n",
       "      <td>2</td>\n",
       "    </tr>\n",
       "    <tr>\n",
       "      <td>23</td>\n",
       "      <td>2409</td>\n",
       "      <td>0</td>\n",
       "    </tr>\n",
       "    <tr>\n",
       "      <td>24</td>\n",
       "      <td>2419</td>\n",
       "      <td>3</td>\n",
       "    </tr>\n",
       "    <tr>\n",
       "      <td>25</td>\n",
       "      <td>2404</td>\n",
       "      <td>1</td>\n",
       "    </tr>\n",
       "    <tr>\n",
       "      <td>26</td>\n",
       "      <td>2398</td>\n",
       "      <td>1</td>\n",
       "    </tr>\n",
       "    <tr>\n",
       "      <td>27</td>\n",
       "      <td>2388</td>\n",
       "      <td>1</td>\n",
       "    </tr>\n",
       "    <tr>\n",
       "      <td>28</td>\n",
       "      <td>2370</td>\n",
       "      <td>6</td>\n",
       "    </tr>\n",
       "    <tr>\n",
       "      <td>29</td>\n",
       "      <td>2336</td>\n",
       "      <td>4</td>\n",
       "    </tr>\n",
       "    <tr>\n",
       "      <td>30</td>\n",
       "      <td>2311</td>\n",
       "      <td>3</td>\n",
       "    </tr>\n",
       "    <tr>\n",
       "      <td>31</td>\n",
       "      <td>2290</td>\n",
       "      <td>3</td>\n",
       "    </tr>\n",
       "    <tr>\n",
       "      <td>32</td>\n",
       "      <td>2262</td>\n",
       "      <td>3</td>\n",
       "    </tr>\n",
       "    <tr>\n",
       "      <td>33</td>\n",
       "      <td>2076</td>\n",
       "      <td>0</td>\n",
       "    </tr>\n",
       "    <tr>\n",
       "      <td>34</td>\n",
       "      <td>1679</td>\n",
       "      <td>1</td>\n",
       "    </tr>\n",
       "    <tr>\n",
       "      <td>35</td>\n",
       "      <td>1433</td>\n",
       "      <td>0</td>\n",
       "    </tr>\n",
       "    <tr>\n",
       "      <td>36</td>\n",
       "      <td>1062</td>\n",
       "      <td>0</td>\n",
       "    </tr>\n",
       "    <tr>\n",
       "      <td>37</td>\n",
       "      <td>1038</td>\n",
       "      <td>0</td>\n",
       "    </tr>\n",
       "    <tr>\n",
       "      <td>38</td>\n",
       "      <td>1050</td>\n",
       "      <td>0</td>\n",
       "    </tr>\n",
       "    <tr>\n",
       "      <td>39</td>\n",
       "      <td>1050</td>\n",
       "      <td>0</td>\n",
       "    </tr>\n",
       "    <tr>\n",
       "      <td>40</td>\n",
       "      <td>1034</td>\n",
       "      <td>0</td>\n",
       "    </tr>\n",
       "    <tr>\n",
       "      <td>41</td>\n",
       "      <td>988</td>\n",
       "      <td>2</td>\n",
       "    </tr>\n",
       "    <tr>\n",
       "      <td>42</td>\n",
       "      <td>798</td>\n",
       "      <td>0</td>\n",
       "    </tr>\n",
       "    <tr>\n",
       "      <td>43</td>\n",
       "      <td>412</td>\n",
       "      <td>0</td>\n",
       "    </tr>\n",
       "    <tr>\n",
       "      <td>44</td>\n",
       "      <td>155</td>\n",
       "      <td>1</td>\n",
       "    </tr>\n",
       "    <tr>\n",
       "      <td>45</td>\n",
       "      <td>31</td>\n",
       "      <td>0</td>\n",
       "    </tr>\n",
       "  </tbody>\n",
       "</table>\n",
       "</div>"
      ],
      "text/plain": [
       "failure     0   1\n",
       "week             \n",
       "1        4615   0\n",
       "2        5992   3\n",
       "3        5046   4\n",
       "4        4939  12\n",
       "5        4947   5\n",
       "6        4942   6\n",
       "7        4945   3\n",
       "8        4751   3\n",
       "9        4668   2\n",
       "10       4678   2\n",
       "11       4697   0\n",
       "12       4681   4\n",
       "13       3986   3\n",
       "14       3359   1\n",
       "15       2905   2\n",
       "16       2659   1\n",
       "17       2477   2\n",
       "18       2475   3\n",
       "19       2675  10\n",
       "20       2527   3\n",
       "21       2459   6\n",
       "22       2407   2\n",
       "23       2409   0\n",
       "24       2419   3\n",
       "25       2404   1\n",
       "26       2398   1\n",
       "27       2388   1\n",
       "28       2370   6\n",
       "29       2336   4\n",
       "30       2311   3\n",
       "31       2290   3\n",
       "32       2262   3\n",
       "33       2076   0\n",
       "34       1679   1\n",
       "35       1433   0\n",
       "36       1062   0\n",
       "37       1038   0\n",
       "38       1050   0\n",
       "39       1050   0\n",
       "40       1034   0\n",
       "41        988   2\n",
       "42        798   0\n",
       "43        412   0\n",
       "44        155   1\n",
       "45         31   0"
      ]
     },
     "execution_count": 215,
     "metadata": {},
     "output_type": "execute_result"
    }
   ],
   "source": [
    "pd.crosstab(data_fe['week'],columns=data_fe['failure'])"
   ]
  },
  {
   "cell_type": "code",
   "execution_count": 216,
   "metadata": {},
   "outputs": [
    {
     "data": {
      "text/plain": [
       "device\n",
       "S1F01085      6\n",
       "S1F0166B      6\n",
       "S1F01E6Y     48\n",
       "S1F01JE0      6\n",
       "S1F01R2B    223\n",
       "           ... \n",
       "Z1F1VMZB    292\n",
       "Z1F1VQFY    125\n",
       "Z1F26YZB     84\n",
       "Z1F282ZV     84\n",
       "Z1F2PBHX     83\n",
       "Name: failure, Length: 1156, dtype: int64"
      ]
     },
     "execution_count": 216,
     "metadata": {},
     "output_type": "execute_result"
    }
   ],
   "source": [
    "data_fe.groupby('device').count()['failure']"
   ]
  },
  {
   "cell_type": "code",
   "execution_count": 217,
   "metadata": {},
   "outputs": [
    {
     "data": {
      "text/plain": [
       "0           36\n",
       "1           36\n",
       "2          576\n",
       "3           36\n",
       "4         3869\n",
       "          ... \n",
       "124489    2442\n",
       "124490    2746\n",
       "124491    2746\n",
       "124492    3050\n",
       "124493    2442\n",
       "Name: metric5, Length: 123329, dtype: int64"
      ]
     },
     "execution_count": 217,
     "metadata": {},
     "output_type": "execute_result"
    }
   ],
   "source": [
    "data_fe.groupby('device')['metric5'].transform('sum')"
   ]
  },
  {
   "cell_type": "code",
   "execution_count": 218,
   "metadata": {},
   "outputs": [
    {
     "data": {
      "text/plain": [
       "235      5230888\n",
       "1398    13307628\n",
       "2561    26258330\n",
       "3724    37985862\n",
       "4885    48467332\n",
       "Name: metric1, dtype: int64"
      ]
     },
     "execution_count": 218,
     "metadata": {},
     "output_type": "execute_result"
    }
   ],
   "source": [
    "data_fe[data_fe['device']=='S1F0RRB1']['metric1']"
   ]
  },
  {
   "cell_type": "code",
   "execution_count": 221,
   "metadata": {},
   "outputs": [],
   "source": [
    "data_fe['m1_cumsum']=data_fe.groupby('device')['metric1'].cumsum()\n",
    "data_fe['m2_cumsum']=data_fe.groupby('device')['metric2'].cumsum()\n",
    "data_fe['m3_cumsum']=data_fe.groupby('device')['metric3'].cumsum()\n",
    "data_fe['m4_cumsum']=data_fe.groupby('device')['metric4'].cumsum()\n",
    "data_fe['m5_cumsum']=data_fe.groupby('device')['metric5'].cumsum()\n",
    "data_fe['m6_cumsum']=data_fe.groupby('device')['metric6'].cumsum()\n",
    "data_fe['m7_cumsum']=data_fe.groupby('device')['metric7'].cumsum()\n",
    "data_fe['m9_cumsum']=data_fe.groupby('device')['metric9'].cumsum()\n"
   ]
  },
  {
   "cell_type": "code",
   "execution_count": null,
   "metadata": {},
   "outputs": [],
   "source": []
  },
  {
   "cell_type": "code",
   "execution_count": null,
   "metadata": {},
   "outputs": [],
   "source": []
  },
  {
   "cell_type": "code",
   "execution_count": null,
   "metadata": {},
   "outputs": [],
   "source": []
  },
  {
   "cell_type": "code",
   "execution_count": 222,
   "metadata": {},
   "outputs": [],
   "source": [
    "#device seems to have some series and further subseries...featurizing it\n",
    "data_fe['device_series']=data_fe['device'].str[:4]"
   ]
  },
  {
   "cell_type": "code",
   "execution_count": 223,
   "metadata": {},
   "outputs": [
    {
     "data": {
      "text/plain": [
       "S1F0    32917\n",
       "W1F0    22839\n",
       "S1F1    21689\n",
       "W1F1    19974\n",
       "Z1F0    18421\n",
       "Z1F1     7238\n",
       "Z1F2      251\n",
       "Name: device_series, dtype: int64"
      ]
     },
     "execution_count": 223,
     "metadata": {},
     "output_type": "execute_result"
    }
   ],
   "source": [
    "data_fe['device_series'].value_counts()"
   ]
  },
  {
   "cell_type": "code",
   "execution_count": 224,
   "metadata": {},
   "outputs": [
    {
     "data": {
      "text/html": [
       "<div>\n",
       "<style scoped>\n",
       "    .dataframe tbody tr th:only-of-type {\n",
       "        vertical-align: middle;\n",
       "    }\n",
       "\n",
       "    .dataframe tbody tr th {\n",
       "        vertical-align: top;\n",
       "    }\n",
       "\n",
       "    .dataframe thead th {\n",
       "        text-align: right;\n",
       "    }\n",
       "</style>\n",
       "<table border=\"1\" class=\"dataframe\">\n",
       "  <thead>\n",
       "    <tr style=\"text-align: right;\">\n",
       "      <th>failure</th>\n",
       "      <th>0</th>\n",
       "      <th>1</th>\n",
       "    </tr>\n",
       "    <tr>\n",
       "      <th>device_series</th>\n",
       "      <th></th>\n",
       "      <th></th>\n",
       "    </tr>\n",
       "  </thead>\n",
       "  <tbody>\n",
       "    <tr>\n",
       "      <td>S1F0</td>\n",
       "      <td>32881</td>\n",
       "      <td>36</td>\n",
       "    </tr>\n",
       "    <tr>\n",
       "      <td>S1F1</td>\n",
       "      <td>21683</td>\n",
       "      <td>6</td>\n",
       "    </tr>\n",
       "    <tr>\n",
       "      <td>W1F0</td>\n",
       "      <td>22812</td>\n",
       "      <td>27</td>\n",
       "    </tr>\n",
       "    <tr>\n",
       "      <td>W1F1</td>\n",
       "      <td>19959</td>\n",
       "      <td>15</td>\n",
       "    </tr>\n",
       "    <tr>\n",
       "      <td>Z1F0</td>\n",
       "      <td>18408</td>\n",
       "      <td>13</td>\n",
       "    </tr>\n",
       "    <tr>\n",
       "      <td>Z1F1</td>\n",
       "      <td>7229</td>\n",
       "      <td>9</td>\n",
       "    </tr>\n",
       "    <tr>\n",
       "      <td>Z1F2</td>\n",
       "      <td>251</td>\n",
       "      <td>0</td>\n",
       "    </tr>\n",
       "  </tbody>\n",
       "</table>\n",
       "</div>"
      ],
      "text/plain": [
       "failure            0   1\n",
       "device_series           \n",
       "S1F0           32881  36\n",
       "S1F1           21683   6\n",
       "W1F0           22812  27\n",
       "W1F1           19959  15\n",
       "Z1F0           18408  13\n",
       "Z1F1            7229   9\n",
       "Z1F2             251   0"
      ]
     },
     "execution_count": 224,
     "metadata": {},
     "output_type": "execute_result"
    }
   ],
   "source": [
    "pd.crosstab(data_fe['device_series'],columns=data_fe['failure'])"
   ]
  },
  {
   "cell_type": "code",
   "execution_count": 225,
   "metadata": {},
   "outputs": [],
   "source": [
    "#234579\n",
    "data_fe['metric2']=data_fe['metric2'].apply(lambda x:np.log(x+1))\n",
    "data_fe['metric3']=data_fe['metric3'].apply(lambda x:np.log(x+1))\n",
    "data_fe['metric4']=data_fe['metric4'].apply(lambda x:np.log(x+1))\n",
    "data_fe['metric5']=data_fe['metric5'].apply(lambda x:np.log(x+1))\n",
    "data_fe['metric7']=data_fe['metric7'].apply(lambda x:np.log(x+1))\n",
    "data_fe['metric9']=data_fe['metric9'].apply(lambda x:np.log(x+1))"
   ]
  },
  {
   "cell_type": "code",
   "execution_count": null,
   "metadata": {},
   "outputs": [],
   "source": []
  },
  {
   "cell_type": "code",
   "execution_count": null,
   "metadata": {},
   "outputs": [],
   "source": []
  },
  {
   "cell_type": "code",
   "execution_count": 226,
   "metadata": {},
   "outputs": [
    {
     "data": {
      "text/html": [
       "<div>\n",
       "<style scoped>\n",
       "    .dataframe tbody tr th:only-of-type {\n",
       "        vertical-align: middle;\n",
       "    }\n",
       "\n",
       "    .dataframe tbody tr th {\n",
       "        vertical-align: top;\n",
       "    }\n",
       "\n",
       "    .dataframe thead th {\n",
       "        text-align: right;\n",
       "    }\n",
       "</style>\n",
       "<table border=\"1\" class=\"dataframe\">\n",
       "  <thead>\n",
       "    <tr style=\"text-align: right;\">\n",
       "      <th></th>\n",
       "      <th>failure</th>\n",
       "      <th>metric1</th>\n",
       "      <th>metric2</th>\n",
       "      <th>metric3</th>\n",
       "      <th>metric4</th>\n",
       "      <th>metric5</th>\n",
       "      <th>metric6</th>\n",
       "      <th>metric7</th>\n",
       "      <th>metric9</th>\n",
       "      <th>month</th>\n",
       "      <th>...</th>\n",
       "      <th>m6_cumsum</th>\n",
       "      <th>m7_cumsum</th>\n",
       "      <th>m9_cumsum</th>\n",
       "      <th>S1F0</th>\n",
       "      <th>S1F1</th>\n",
       "      <th>W1F0</th>\n",
       "      <th>W1F1</th>\n",
       "      <th>Z1F0</th>\n",
       "      <th>Z1F1</th>\n",
       "      <th>Z1F2</th>\n",
       "    </tr>\n",
       "  </thead>\n",
       "  <tbody>\n",
       "    <tr>\n",
       "      <td>0</td>\n",
       "      <td>0</td>\n",
       "      <td>215630672</td>\n",
       "      <td>4.043051</td>\n",
       "      <td>0.000000</td>\n",
       "      <td>3.970292</td>\n",
       "      <td>1.945910</td>\n",
       "      <td>407438</td>\n",
       "      <td>0.000000</td>\n",
       "      <td>2.079442</td>\n",
       "      <td>1</td>\n",
       "      <td>...</td>\n",
       "      <td>407438</td>\n",
       "      <td>0</td>\n",
       "      <td>7</td>\n",
       "      <td>1</td>\n",
       "      <td>0</td>\n",
       "      <td>0</td>\n",
       "      <td>0</td>\n",
       "      <td>0</td>\n",
       "      <td>0</td>\n",
       "      <td>0</td>\n",
       "    </tr>\n",
       "    <tr>\n",
       "      <td>1</td>\n",
       "      <td>0</td>\n",
       "      <td>61370680</td>\n",
       "      <td>0.000000</td>\n",
       "      <td>1.386294</td>\n",
       "      <td>0.000000</td>\n",
       "      <td>1.945910</td>\n",
       "      <td>403174</td>\n",
       "      <td>0.000000</td>\n",
       "      <td>0.000000</td>\n",
       "      <td>1</td>\n",
       "      <td>...</td>\n",
       "      <td>403174</td>\n",
       "      <td>0</td>\n",
       "      <td>0</td>\n",
       "      <td>1</td>\n",
       "      <td>0</td>\n",
       "      <td>0</td>\n",
       "      <td>0</td>\n",
       "      <td>0</td>\n",
       "      <td>0</td>\n",
       "      <td>0</td>\n",
       "    </tr>\n",
       "    <tr>\n",
       "      <td>2</td>\n",
       "      <td>0</td>\n",
       "      <td>173295968</td>\n",
       "      <td>0.000000</td>\n",
       "      <td>0.000000</td>\n",
       "      <td>0.000000</td>\n",
       "      <td>2.564949</td>\n",
       "      <td>237394</td>\n",
       "      <td>0.000000</td>\n",
       "      <td>0.000000</td>\n",
       "      <td>1</td>\n",
       "      <td>...</td>\n",
       "      <td>237394</td>\n",
       "      <td>0</td>\n",
       "      <td>0</td>\n",
       "      <td>1</td>\n",
       "      <td>0</td>\n",
       "      <td>0</td>\n",
       "      <td>0</td>\n",
       "      <td>0</td>\n",
       "      <td>0</td>\n",
       "      <td>0</td>\n",
       "    </tr>\n",
       "    <tr>\n",
       "      <td>3</td>\n",
       "      <td>0</td>\n",
       "      <td>79694024</td>\n",
       "      <td>0.000000</td>\n",
       "      <td>0.000000</td>\n",
       "      <td>0.000000</td>\n",
       "      <td>1.945910</td>\n",
       "      <td>410186</td>\n",
       "      <td>0.000000</td>\n",
       "      <td>0.000000</td>\n",
       "      <td>1</td>\n",
       "      <td>...</td>\n",
       "      <td>410186</td>\n",
       "      <td>0</td>\n",
       "      <td>0</td>\n",
       "      <td>1</td>\n",
       "      <td>0</td>\n",
       "      <td>0</td>\n",
       "      <td>0</td>\n",
       "      <td>0</td>\n",
       "      <td>0</td>\n",
       "      <td>0</td>\n",
       "    </tr>\n",
       "    <tr>\n",
       "      <td>4</td>\n",
       "      <td>0</td>\n",
       "      <td>135970480</td>\n",
       "      <td>0.000000</td>\n",
       "      <td>0.000000</td>\n",
       "      <td>0.000000</td>\n",
       "      <td>2.772589</td>\n",
       "      <td>313173</td>\n",
       "      <td>0.000000</td>\n",
       "      <td>1.386294</td>\n",
       "      <td>1</td>\n",
       "      <td>...</td>\n",
       "      <td>313173</td>\n",
       "      <td>0</td>\n",
       "      <td>3</td>\n",
       "      <td>1</td>\n",
       "      <td>0</td>\n",
       "      <td>0</td>\n",
       "      <td>0</td>\n",
       "      <td>0</td>\n",
       "      <td>0</td>\n",
       "      <td>0</td>\n",
       "    </tr>\n",
       "    <tr>\n",
       "      <td>...</td>\n",
       "      <td>...</td>\n",
       "      <td>...</td>\n",
       "      <td>...</td>\n",
       "      <td>...</td>\n",
       "      <td>...</td>\n",
       "      <td>...</td>\n",
       "      <td>...</td>\n",
       "      <td>...</td>\n",
       "      <td>...</td>\n",
       "      <td>...</td>\n",
       "      <td>...</td>\n",
       "      <td>...</td>\n",
       "      <td>...</td>\n",
       "      <td>...</td>\n",
       "      <td>...</td>\n",
       "      <td>...</td>\n",
       "      <td>...</td>\n",
       "      <td>...</td>\n",
       "      <td>...</td>\n",
       "      <td>...</td>\n",
       "      <td>...</td>\n",
       "    </tr>\n",
       "    <tr>\n",
       "      <td>124489</td>\n",
       "      <td>0</td>\n",
       "      <td>18310224</td>\n",
       "      <td>0.000000</td>\n",
       "      <td>0.000000</td>\n",
       "      <td>0.000000</td>\n",
       "      <td>2.397895</td>\n",
       "      <td>353705</td>\n",
       "      <td>2.197225</td>\n",
       "      <td>0.000000</td>\n",
       "      <td>11</td>\n",
       "      <td>...</td>\n",
       "      <td>81801608</td>\n",
       "      <td>8</td>\n",
       "      <td>0</td>\n",
       "      <td>0</td>\n",
       "      <td>0</td>\n",
       "      <td>0</td>\n",
       "      <td>0</td>\n",
       "      <td>1</td>\n",
       "      <td>0</td>\n",
       "      <td>0</td>\n",
       "    </tr>\n",
       "    <tr>\n",
       "      <td>124490</td>\n",
       "      <td>0</td>\n",
       "      <td>172556680</td>\n",
       "      <td>4.574711</td>\n",
       "      <td>4.682131</td>\n",
       "      <td>1.609438</td>\n",
       "      <td>2.484907</td>\n",
       "      <td>332792</td>\n",
       "      <td>0.000000</td>\n",
       "      <td>2.639057</td>\n",
       "      <td>11</td>\n",
       "      <td>...</td>\n",
       "      <td>76558137</td>\n",
       "      <td>0</td>\n",
       "      <td>3014</td>\n",
       "      <td>0</td>\n",
       "      <td>0</td>\n",
       "      <td>0</td>\n",
       "      <td>0</td>\n",
       "      <td>1</td>\n",
       "      <td>0</td>\n",
       "      <td>0</td>\n",
       "    </tr>\n",
       "    <tr>\n",
       "      <td>124491</td>\n",
       "      <td>0</td>\n",
       "      <td>19029120</td>\n",
       "      <td>8.483223</td>\n",
       "      <td>0.000000</td>\n",
       "      <td>0.000000</td>\n",
       "      <td>2.484907</td>\n",
       "      <td>350410</td>\n",
       "      <td>0.000000</td>\n",
       "      <td>0.000000</td>\n",
       "      <td>11</td>\n",
       "      <td>...</td>\n",
       "      <td>81699748</td>\n",
       "      <td>0</td>\n",
       "      <td>0</td>\n",
       "      <td>0</td>\n",
       "      <td>0</td>\n",
       "      <td>0</td>\n",
       "      <td>0</td>\n",
       "      <td>1</td>\n",
       "      <td>0</td>\n",
       "      <td>0</td>\n",
       "    </tr>\n",
       "    <tr>\n",
       "      <td>124492</td>\n",
       "      <td>0</td>\n",
       "      <td>226953408</td>\n",
       "      <td>0.000000</td>\n",
       "      <td>0.000000</td>\n",
       "      <td>0.000000</td>\n",
       "      <td>2.564949</td>\n",
       "      <td>358980</td>\n",
       "      <td>0.000000</td>\n",
       "      <td>0.000000</td>\n",
       "      <td>11</td>\n",
       "      <td>...</td>\n",
       "      <td>82642274</td>\n",
       "      <td>0</td>\n",
       "      <td>0</td>\n",
       "      <td>0</td>\n",
       "      <td>0</td>\n",
       "      <td>0</td>\n",
       "      <td>0</td>\n",
       "      <td>1</td>\n",
       "      <td>0</td>\n",
       "      <td>0</td>\n",
       "    </tr>\n",
       "    <tr>\n",
       "      <td>124493</td>\n",
       "      <td>0</td>\n",
       "      <td>17572840</td>\n",
       "      <td>0.000000</td>\n",
       "      <td>0.000000</td>\n",
       "      <td>0.000000</td>\n",
       "      <td>2.397895</td>\n",
       "      <td>351431</td>\n",
       "      <td>0.000000</td>\n",
       "      <td>0.000000</td>\n",
       "      <td>11</td>\n",
       "      <td>...</td>\n",
       "      <td>81938717</td>\n",
       "      <td>0</td>\n",
       "      <td>0</td>\n",
       "      <td>0</td>\n",
       "      <td>0</td>\n",
       "      <td>0</td>\n",
       "      <td>0</td>\n",
       "      <td>1</td>\n",
       "      <td>0</td>\n",
       "      <td>0</td>\n",
       "    </tr>\n",
       "  </tbody>\n",
       "</table>\n",
       "<p>123329 rows × 28 columns</p>\n",
       "</div>"
      ],
      "text/plain": [
       "        failure    metric1   metric2   metric3   metric4   metric5  metric6  \\\n",
       "0             0  215630672  4.043051  0.000000  3.970292  1.945910   407438   \n",
       "1             0   61370680  0.000000  1.386294  0.000000  1.945910   403174   \n",
       "2             0  173295968  0.000000  0.000000  0.000000  2.564949   237394   \n",
       "3             0   79694024  0.000000  0.000000  0.000000  1.945910   410186   \n",
       "4             0  135970480  0.000000  0.000000  0.000000  2.772589   313173   \n",
       "...         ...        ...       ...       ...       ...       ...      ...   \n",
       "124489        0   18310224  0.000000  0.000000  0.000000  2.397895   353705   \n",
       "124490        0  172556680  4.574711  4.682131  1.609438  2.484907   332792   \n",
       "124491        0   19029120  8.483223  0.000000  0.000000  2.484907   350410   \n",
       "124492        0  226953408  0.000000  0.000000  0.000000  2.564949   358980   \n",
       "124493        0   17572840  0.000000  0.000000  0.000000  2.397895   351431   \n",
       "\n",
       "         metric7   metric9  month  ...  m6_cumsum  m7_cumsum  m9_cumsum  S1F0  \\\n",
       "0       0.000000  2.079442      1  ...     407438          0          7     1   \n",
       "1       0.000000  0.000000      1  ...     403174          0          0     1   \n",
       "2       0.000000  0.000000      1  ...     237394          0          0     1   \n",
       "3       0.000000  0.000000      1  ...     410186          0          0     1   \n",
       "4       0.000000  1.386294      1  ...     313173          0          3     1   \n",
       "...          ...       ...    ...  ...        ...        ...        ...   ...   \n",
       "124489  2.197225  0.000000     11  ...   81801608          8          0     0   \n",
       "124490  0.000000  2.639057     11  ...   76558137          0       3014     0   \n",
       "124491  0.000000  0.000000     11  ...   81699748          0          0     0   \n",
       "124492  0.000000  0.000000     11  ...   82642274          0          0     0   \n",
       "124493  0.000000  0.000000     11  ...   81938717          0          0     0   \n",
       "\n",
       "        S1F1  W1F0  W1F1  Z1F0  Z1F1  Z1F2  \n",
       "0          0     0     0     0     0     0  \n",
       "1          0     0     0     0     0     0  \n",
       "2          0     0     0     0     0     0  \n",
       "3          0     0     0     0     0     0  \n",
       "4          0     0     0     0     0     0  \n",
       "...      ...   ...   ...   ...   ...   ...  \n",
       "124489     0     0     0     1     0     0  \n",
       "124490     0     0     0     1     0     0  \n",
       "124491     0     0     0     1     0     0  \n",
       "124492     0     0     0     1     0     0  \n",
       "124493     0     0     0     1     0     0  \n",
       "\n",
       "[123329 rows x 28 columns]"
      ]
     },
     "execution_count": 226,
     "metadata": {},
     "output_type": "execute_result"
    }
   ],
   "source": [
    "#dropping unwanted or featurized columns and one hot encoding device_series\n",
    "data_after_fe=pd.concat([data_fe.drop(['date','device','year','device_series'], axis=1), pd.get_dummies(data_fe['device_series'])], axis=1)\n",
    "data_after_fe"
   ]
  },
  {
   "cell_type": "markdown",
   "metadata": {},
   "source": [
    "## Train test split"
   ]
  },
  {
   "cell_type": "code",
   "execution_count": 227,
   "metadata": {},
   "outputs": [],
   "source": [
    "y=data_after_fe['failure'].values"
   ]
  },
  {
   "cell_type": "code",
   "execution_count": 228,
   "metadata": {},
   "outputs": [],
   "source": [
    "X=data_after_fe.drop(['failure'],axis=1)"
   ]
  },
  {
   "cell_type": "code",
   "execution_count": 229,
   "metadata": {},
   "outputs": [],
   "source": [
    "X_train, X_test, y_train, y_test = train_test_split(X, y, test_size=0.33, stratify=y)"
   ]
  },
  {
   "cell_type": "code",
   "execution_count": 230,
   "metadata": {},
   "outputs": [
    {
     "data": {
      "text/plain": [
       "(82630, 27)"
      ]
     },
     "execution_count": 230,
     "metadata": {},
     "output_type": "execute_result"
    }
   ],
   "source": [
    "X_train.shape"
   ]
  },
  {
   "cell_type": "code",
   "execution_count": 231,
   "metadata": {},
   "outputs": [
    {
     "data": {
      "text/plain": [
       "(40699, 27)"
      ]
     },
     "execution_count": 231,
     "metadata": {},
     "output_type": "execute_result"
    }
   ],
   "source": [
    "X_test.shape"
   ]
  },
  {
   "cell_type": "markdown",
   "metadata": {},
   "source": [
    "## Making dataset Ready - Normalising"
   ]
  },
  {
   "cell_type": "code",
   "execution_count": 232,
   "metadata": {},
   "outputs": [],
   "source": [
    "#metric 1 Normalisation\n",
    "s1=Normalizer()\n",
    "train=s1.fit_transform(X_train['metric1'].values.reshape(1,-1))\n",
    "X_train['metric1']=train.reshape(-1,1)\n",
    "\n",
    "test=s1.transform(X_test['metric1'].values.reshape(1,-1))\n",
    "X_test['metric1']=test.reshape(-1,1)\n"
   ]
  },
  {
   "cell_type": "code",
   "execution_count": 233,
   "metadata": {},
   "outputs": [],
   "source": [
    "#metric 2 Normalisation\n",
    "s2=Normalizer()\n",
    "train=s2.fit_transform(X_train['metric2'].values.reshape(1,-1))\n",
    "X_train['metric2']=train.reshape(-1,1)\n",
    "\n",
    "test=s2.transform(X_test['metric2'].values.reshape(1,-1))\n",
    "X_test['metric2']=test.reshape(-1,1)\n"
   ]
  },
  {
   "cell_type": "code",
   "execution_count": 234,
   "metadata": {},
   "outputs": [],
   "source": [
    "#metric 3 Normalisation\n",
    "s3=Normalizer()\n",
    "train=s3.fit_transform(X_train['metric3'].values.reshape(1,-1))\n",
    "X_train['metric3']=train.reshape(-1,1)\n",
    "\n",
    "test=s3.transform(X_test['metric3'].values.reshape(1,-1))\n",
    "X_test['metric3']=test.reshape(-1,1)\n",
    "\n"
   ]
  },
  {
   "cell_type": "code",
   "execution_count": 235,
   "metadata": {},
   "outputs": [],
   "source": [
    "#metric 4 Normalisation\n",
    "s4=Normalizer()\n",
    "train=s4.fit_transform(X_train['metric4'].values.reshape(1,-1))\n",
    "X_train['metric4']=train.reshape(-1,1)\n",
    "\n",
    "test=s4.transform(X_test['metric4'].values.reshape(1,-1))\n",
    "X_test['metric4']=test.reshape(-1,1)"
   ]
  },
  {
   "cell_type": "code",
   "execution_count": 236,
   "metadata": {},
   "outputs": [],
   "source": [
    "#metric 5 Normalisation\n",
    "s5=Normalizer()\n",
    "train=s5.fit_transform(X_train['metric5'].values.reshape(1,-1))\n",
    "X_train['metric5']=train.reshape(-1,1)\n",
    "\n",
    "test=s5.transform(X_test['metric5'].values.reshape(1,-1))\n",
    "X_test['metric5']=test.reshape(-1,1)"
   ]
  },
  {
   "cell_type": "code",
   "execution_count": 237,
   "metadata": {},
   "outputs": [],
   "source": [
    "#metric 6 Normalisation\n",
    "s6=Normalizer()\n",
    "train=s6.fit_transform(X_train['metric6'].values.reshape(1,-1))\n",
    "X_train['metric6']=train.reshape(-1,1)\n",
    "\n",
    "test=s6.transform(X_test['metric6'].values.reshape(1,-1))\n",
    "X_test['metric6']=test.reshape(-1,1)"
   ]
  },
  {
   "cell_type": "code",
   "execution_count": 238,
   "metadata": {},
   "outputs": [],
   "source": [
    "#metric 7 Normalisation\n",
    "s7=Normalizer()\n",
    "train=s7.fit_transform(X_train['metric7'].values.reshape(1,-1))\n",
    "X_train['metric7']=train.reshape(-1,1)\n",
    "\n",
    "test=s7.transform(X_test['metric7'].values.reshape(1,-1))\n",
    "X_test['metric7']=test.reshape(-1,1)"
   ]
  },
  {
   "cell_type": "code",
   "execution_count": 239,
   "metadata": {},
   "outputs": [],
   "source": [
    "#metric 9 Normalisation\n",
    "s9=Normalizer()\n",
    "train=s9.fit_transform(X_train['metric9'].values.reshape(1,-1))\n",
    "X_train['metric9']=train.reshape(-1,1)\n",
    "\n",
    "test=s9.transform(X_test['metric9'].values.reshape(1,-1))\n",
    "X_test['metric9']=test.reshape(-1,1)"
   ]
  },
  {
   "cell_type": "code",
   "execution_count": 240,
   "metadata": {},
   "outputs": [
    {
     "data": {
      "text/html": [
       "<div>\n",
       "<style scoped>\n",
       "    .dataframe tbody tr th:only-of-type {\n",
       "        vertical-align: middle;\n",
       "    }\n",
       "\n",
       "    .dataframe tbody tr th {\n",
       "        vertical-align: top;\n",
       "    }\n",
       "\n",
       "    .dataframe thead th {\n",
       "        text-align: right;\n",
       "    }\n",
       "</style>\n",
       "<table border=\"1\" class=\"dataframe\">\n",
       "  <thead>\n",
       "    <tr style=\"text-align: right;\">\n",
       "      <th></th>\n",
       "      <th>metric1</th>\n",
       "      <th>metric2</th>\n",
       "      <th>metric3</th>\n",
       "      <th>metric4</th>\n",
       "      <th>metric5</th>\n",
       "      <th>metric6</th>\n",
       "      <th>metric7</th>\n",
       "      <th>metric9</th>\n",
       "      <th>month</th>\n",
       "      <th>week</th>\n",
       "      <th>...</th>\n",
       "      <th>m6_cumsum</th>\n",
       "      <th>m7_cumsum</th>\n",
       "      <th>m9_cumsum</th>\n",
       "      <th>S1F0</th>\n",
       "      <th>S1F1</th>\n",
       "      <th>W1F0</th>\n",
       "      <th>W1F1</th>\n",
       "      <th>Z1F0</th>\n",
       "      <th>Z1F1</th>\n",
       "      <th>Z1F2</th>\n",
       "    </tr>\n",
       "  </thead>\n",
       "  <tbody>\n",
       "    <tr>\n",
       "      <td>53458</td>\n",
       "      <td>0.003262</td>\n",
       "      <td>0.000000</td>\n",
       "      <td>0.0000</td>\n",
       "      <td>0.000000</td>\n",
       "      <td>0.003635</td>\n",
       "      <td>2.802523e-03</td>\n",
       "      <td>0.0</td>\n",
       "      <td>0.000000</td>\n",
       "      <td>3</td>\n",
       "      <td>11</td>\n",
       "      <td>...</td>\n",
       "      <td>16071355</td>\n",
       "      <td>0</td>\n",
       "      <td>0</td>\n",
       "      <td>1</td>\n",
       "      <td>0</td>\n",
       "      <td>0</td>\n",
       "      <td>0</td>\n",
       "      <td>0</td>\n",
       "      <td>0</td>\n",
       "      <td>0</td>\n",
       "    </tr>\n",
       "    <tr>\n",
       "      <td>95619</td>\n",
       "      <td>0.005264</td>\n",
       "      <td>0.000000</td>\n",
       "      <td>0.0000</td>\n",
       "      <td>0.000000</td>\n",
       "      <td>0.003423</td>\n",
       "      <td>2.958438e-03</td>\n",
       "      <td>0.0</td>\n",
       "      <td>0.000000</td>\n",
       "      <td>6</td>\n",
       "      <td>26</td>\n",
       "      <td>...</td>\n",
       "      <td>38517600</td>\n",
       "      <td>0</td>\n",
       "      <td>0</td>\n",
       "      <td>0</td>\n",
       "      <td>0</td>\n",
       "      <td>0</td>\n",
       "      <td>1</td>\n",
       "      <td>0</td>\n",
       "      <td>0</td>\n",
       "      <td>0</td>\n",
       "    </tr>\n",
       "    <tr>\n",
       "      <td>7088</td>\n",
       "      <td>0.004683</td>\n",
       "      <td>0.000000</td>\n",
       "      <td>0.0000</td>\n",
       "      <td>0.000000</td>\n",
       "      <td>0.003027</td>\n",
       "      <td>4.838893e-03</td>\n",
       "      <td>0.0</td>\n",
       "      <td>0.000000</td>\n",
       "      <td>1</td>\n",
       "      <td>2</td>\n",
       "      <td>...</td>\n",
       "      <td>2714690</td>\n",
       "      <td>0</td>\n",
       "      <td>0</td>\n",
       "      <td>1</td>\n",
       "      <td>0</td>\n",
       "      <td>0</td>\n",
       "      <td>0</td>\n",
       "      <td>0</td>\n",
       "      <td>0</td>\n",
       "      <td>0</td>\n",
       "    </tr>\n",
       "    <tr>\n",
       "      <td>102185</td>\n",
       "      <td>0.003789</td>\n",
       "      <td>0.008158</td>\n",
       "      <td>0.0098</td>\n",
       "      <td>0.029591</td>\n",
       "      <td>0.001910</td>\n",
       "      <td>4.276732e-03</td>\n",
       "      <td>0.0</td>\n",
       "      <td>0.002341</td>\n",
       "      <td>7</td>\n",
       "      <td>28</td>\n",
       "      <td>...</td>\n",
       "      <td>65448371</td>\n",
       "      <td>0</td>\n",
       "      <td>193</td>\n",
       "      <td>0</td>\n",
       "      <td>0</td>\n",
       "      <td>0</td>\n",
       "      <td>1</td>\n",
       "      <td>0</td>\n",
       "      <td>0</td>\n",
       "      <td>0</td>\n",
       "    </tr>\n",
       "    <tr>\n",
       "      <td>117973</td>\n",
       "      <td>0.004780</td>\n",
       "      <td>0.000000</td>\n",
       "      <td>0.0000</td>\n",
       "      <td>0.000000</td>\n",
       "      <td>0.003533</td>\n",
       "      <td>2.757642e-03</td>\n",
       "      <td>0.0</td>\n",
       "      <td>0.002341</td>\n",
       "      <td>9</td>\n",
       "      <td>37</td>\n",
       "      <td>...</td>\n",
       "      <td>53526994</td>\n",
       "      <td>0</td>\n",
       "      <td>250</td>\n",
       "      <td>0</td>\n",
       "      <td>1</td>\n",
       "      <td>0</td>\n",
       "      <td>0</td>\n",
       "      <td>0</td>\n",
       "      <td>0</td>\n",
       "      <td>0</td>\n",
       "    </tr>\n",
       "    <tr>\n",
       "      <td>...</td>\n",
       "      <td>...</td>\n",
       "      <td>...</td>\n",
       "      <td>...</td>\n",
       "      <td>...</td>\n",
       "      <td>...</td>\n",
       "      <td>...</td>\n",
       "      <td>...</td>\n",
       "      <td>...</td>\n",
       "      <td>...</td>\n",
       "      <td>...</td>\n",
       "      <td>...</td>\n",
       "      <td>...</td>\n",
       "      <td>...</td>\n",
       "      <td>...</td>\n",
       "      <td>...</td>\n",
       "      <td>...</td>\n",
       "      <td>...</td>\n",
       "      <td>...</td>\n",
       "      <td>...</td>\n",
       "      <td>...</td>\n",
       "      <td>...</td>\n",
       "    </tr>\n",
       "    <tr>\n",
       "      <td>11177</td>\n",
       "      <td>0.001614</td>\n",
       "      <td>0.000000</td>\n",
       "      <td>0.0000</td>\n",
       "      <td>0.000000</td>\n",
       "      <td>0.002864</td>\n",
       "      <td>2.333341e-03</td>\n",
       "      <td>0.0</td>\n",
       "      <td>0.002341</td>\n",
       "      <td>1</td>\n",
       "      <td>3</td>\n",
       "      <td>...</td>\n",
       "      <td>2244096</td>\n",
       "      <td>0</td>\n",
       "      <td>12</td>\n",
       "      <td>0</td>\n",
       "      <td>0</td>\n",
       "      <td>1</td>\n",
       "      <td>0</td>\n",
       "      <td>0</td>\n",
       "      <td>0</td>\n",
       "      <td>0</td>\n",
       "    </tr>\n",
       "    <tr>\n",
       "      <td>34764</td>\n",
       "      <td>0.001329</td>\n",
       "      <td>0.005126</td>\n",
       "      <td>0.0000</td>\n",
       "      <td>0.000000</td>\n",
       "      <td>0.003303</td>\n",
       "      <td>3.618396e-07</td>\n",
       "      <td>0.0</td>\n",
       "      <td>0.000000</td>\n",
       "      <td>2</td>\n",
       "      <td>7</td>\n",
       "      <td>...</td>\n",
       "      <td>1305</td>\n",
       "      <td>0</td>\n",
       "      <td>0</td>\n",
       "      <td>0</td>\n",
       "      <td>0</td>\n",
       "      <td>0</td>\n",
       "      <td>1</td>\n",
       "      <td>0</td>\n",
       "      <td>0</td>\n",
       "      <td>0</td>\n",
       "    </tr>\n",
       "    <tr>\n",
       "      <td>3428</td>\n",
       "      <td>0.005645</td>\n",
       "      <td>0.000000</td>\n",
       "      <td>0.0000</td>\n",
       "      <td>0.000000</td>\n",
       "      <td>0.003027</td>\n",
       "      <td>1.955244e-03</td>\n",
       "      <td>0.0</td>\n",
       "      <td>0.000000</td>\n",
       "      <td>1</td>\n",
       "      <td>1</td>\n",
       "      <td>...</td>\n",
       "      <td>468120</td>\n",
       "      <td>0</td>\n",
       "      <td>0</td>\n",
       "      <td>0</td>\n",
       "      <td>0</td>\n",
       "      <td>0</td>\n",
       "      <td>0</td>\n",
       "      <td>0</td>\n",
       "      <td>1</td>\n",
       "      <td>0</td>\n",
       "    </tr>\n",
       "    <tr>\n",
       "      <td>66208</td>\n",
       "      <td>0.001506</td>\n",
       "      <td>0.000000</td>\n",
       "      <td>0.0000</td>\n",
       "      <td>0.000000</td>\n",
       "      <td>0.005663</td>\n",
       "      <td>2.969667e-03</td>\n",
       "      <td>0.0</td>\n",
       "      <td>0.000000</td>\n",
       "      <td>4</td>\n",
       "      <td>14</td>\n",
       "      <td>...</td>\n",
       "      <td>22177141</td>\n",
       "      <td>0</td>\n",
       "      <td>0</td>\n",
       "      <td>0</td>\n",
       "      <td>0</td>\n",
       "      <td>0</td>\n",
       "      <td>0</td>\n",
       "      <td>1</td>\n",
       "      <td>0</td>\n",
       "      <td>0</td>\n",
       "    </tr>\n",
       "    <tr>\n",
       "      <td>14020</td>\n",
       "      <td>0.001788</td>\n",
       "      <td>0.015165</td>\n",
       "      <td>0.0000</td>\n",
       "      <td>0.012522</td>\n",
       "      <td>0.004974</td>\n",
       "      <td>3.191238e-03</td>\n",
       "      <td>0.0</td>\n",
       "      <td>0.000000</td>\n",
       "      <td>1</td>\n",
       "      <td>3</td>\n",
       "      <td>...</td>\n",
       "      <td>3984412</td>\n",
       "      <td>0</td>\n",
       "      <td>0</td>\n",
       "      <td>0</td>\n",
       "      <td>0</td>\n",
       "      <td>1</td>\n",
       "      <td>0</td>\n",
       "      <td>0</td>\n",
       "      <td>0</td>\n",
       "      <td>0</td>\n",
       "    </tr>\n",
       "  </tbody>\n",
       "</table>\n",
       "<p>82630 rows × 27 columns</p>\n",
       "</div>"
      ],
      "text/plain": [
       "         metric1   metric2  metric3   metric4   metric5       metric6  \\\n",
       "53458   0.003262  0.000000   0.0000  0.000000  0.003635  2.802523e-03   \n",
       "95619   0.005264  0.000000   0.0000  0.000000  0.003423  2.958438e-03   \n",
       "7088    0.004683  0.000000   0.0000  0.000000  0.003027  4.838893e-03   \n",
       "102185  0.003789  0.008158   0.0098  0.029591  0.001910  4.276732e-03   \n",
       "117973  0.004780  0.000000   0.0000  0.000000  0.003533  2.757642e-03   \n",
       "...          ...       ...      ...       ...       ...           ...   \n",
       "11177   0.001614  0.000000   0.0000  0.000000  0.002864  2.333341e-03   \n",
       "34764   0.001329  0.005126   0.0000  0.000000  0.003303  3.618396e-07   \n",
       "3428    0.005645  0.000000   0.0000  0.000000  0.003027  1.955244e-03   \n",
       "66208   0.001506  0.000000   0.0000  0.000000  0.005663  2.969667e-03   \n",
       "14020   0.001788  0.015165   0.0000  0.012522  0.004974  3.191238e-03   \n",
       "\n",
       "        metric7   metric9  month  week  ...  m6_cumsum  m7_cumsum  m9_cumsum  \\\n",
       "53458       0.0  0.000000      3    11  ...   16071355          0          0   \n",
       "95619       0.0  0.000000      6    26  ...   38517600          0          0   \n",
       "7088        0.0  0.000000      1     2  ...    2714690          0          0   \n",
       "102185      0.0  0.002341      7    28  ...   65448371          0        193   \n",
       "117973      0.0  0.002341      9    37  ...   53526994          0        250   \n",
       "...         ...       ...    ...   ...  ...        ...        ...        ...   \n",
       "11177       0.0  0.002341      1     3  ...    2244096          0         12   \n",
       "34764       0.0  0.000000      2     7  ...       1305          0          0   \n",
       "3428        0.0  0.000000      1     1  ...     468120          0          0   \n",
       "66208       0.0  0.000000      4    14  ...   22177141          0          0   \n",
       "14020       0.0  0.000000      1     3  ...    3984412          0          0   \n",
       "\n",
       "        S1F0  S1F1  W1F0  W1F1  Z1F0  Z1F1  Z1F2  \n",
       "53458      1     0     0     0     0     0     0  \n",
       "95619      0     0     0     1     0     0     0  \n",
       "7088       1     0     0     0     0     0     0  \n",
       "102185     0     0     0     1     0     0     0  \n",
       "117973     0     1     0     0     0     0     0  \n",
       "...      ...   ...   ...   ...   ...   ...   ...  \n",
       "11177      0     0     1     0     0     0     0  \n",
       "34764      0     0     0     1     0     0     0  \n",
       "3428       0     0     0     0     0     1     0  \n",
       "66208      0     0     0     0     1     0     0  \n",
       "14020      0     0     1     0     0     0     0  \n",
       "\n",
       "[82630 rows x 27 columns]"
      ]
     },
     "execution_count": 240,
     "metadata": {},
     "output_type": "execute_result"
    }
   ],
   "source": [
    "X_train"
   ]
  },
  {
   "cell_type": "markdown",
   "metadata": {},
   "source": [
    "## Modeliing"
   ]
  },
  {
   "cell_type": "code",
   "execution_count": 252,
   "metadata": {},
   "outputs": [],
   "source": [
    "from sklearn.linear_model import LogisticRegression\n",
    "from sklearn.metrics import accuracy_score,log_loss,f1_score,confusion_matrix,roc_auc_score\n",
    "from sklearn.naive_bayes import MultinomialNB\n",
    "from sklearn.tree import DecisionTreeClassifier\n",
    "from sklearn.ensemble import RandomForestClassifier,GradientBoostingClassifier\n",
    "from sklearn.neighbors import KNeighborsClassifier\n",
    "from xgboost import XGBClassifier\n",
    "from sklearn.model_selection import GridSearchCV,RandomizedSearchCV"
   ]
  },
  {
   "cell_type": "markdown",
   "metadata": {},
   "source": [
    "### Logistic regression"
   ]
  },
  {
   "cell_type": "code",
   "execution_count": 242,
   "metadata": {},
   "outputs": [],
   "source": [
    "lr=LogisticRegression(class_weight='balanced')"
   ]
  },
  {
   "cell_type": "code",
   "execution_count": 243,
   "metadata": {},
   "outputs": [
    {
     "data": {
      "text/plain": [
       "LogisticRegression(C=1.0, class_weight='balanced', dual=False,\n",
       "                   fit_intercept=True, intercept_scaling=1, l1_ratio=None,\n",
       "                   max_iter=100, multi_class='auto', n_jobs=None, penalty='l2',\n",
       "                   random_state=None, solver='lbfgs', tol=0.0001, verbose=0,\n",
       "                   warm_start=False)"
      ]
     },
     "execution_count": 243,
     "metadata": {},
     "output_type": "execute_result"
    }
   ],
   "source": [
    "lr.fit(X_train,y_train)"
   ]
  },
  {
   "cell_type": "code",
   "execution_count": 244,
   "metadata": {},
   "outputs": [],
   "source": [
    "y_pred=lr.predict(X_test)"
   ]
  },
  {
   "cell_type": "code",
   "execution_count": 245,
   "metadata": {},
   "outputs": [
    {
     "data": {
      "text/plain": [
       "0.9991400280105163"
      ]
     },
     "execution_count": 245,
     "metadata": {},
     "output_type": "execute_result"
    }
   ],
   "source": [
    "accuracy_score(y_test,y_pred)"
   ]
  },
  {
   "cell_type": "code",
   "execution_count": 246,
   "metadata": {},
   "outputs": [
    {
     "data": {
      "text/plain": [
       "array([[40664,     0],\n",
       "       [   35,     0]], dtype=int64)"
      ]
     },
     "execution_count": 246,
     "metadata": {},
     "output_type": "execute_result"
    }
   ],
   "source": [
    "confusion_matrix(y_test,y_pred)"
   ]
  },
  {
   "cell_type": "code",
   "execution_count": 247,
   "metadata": {},
   "outputs": [
    {
     "data": {
      "text/plain": [
       "0.0"
      ]
     },
     "execution_count": 247,
     "metadata": {},
     "output_type": "execute_result"
    }
   ],
   "source": [
    "f1_score(y_test,y_pred)"
   ]
  },
  {
   "cell_type": "code",
   "execution_count": 190,
   "metadata": {},
   "outputs": [
    {
     "data": {
      "text/plain": [
       "array([[ 1.01809158e-24,  5.23998893e-23, -1.05565959e-24,\n",
       "         6.50722782e-23,  1.51468957e-24,  9.64453238e-25,\n",
       "         1.21027186e-22,  6.30820196e-24, -3.00716977e-23,\n",
       "         1.77975430e-21,  8.47531874e-21, -8.35948330e-21,\n",
       "        -2.55467920e-12,  9.56360039e-17, -5.73809592e-18,\n",
       "         1.74292791e-18, -2.02827546e-19, -9.68187704e-15,\n",
       "         1.41109411e-18,  1.31281126e-17,  1.10766601e-21,\n",
       "        -1.10615969e-21,  5.90435851e-22, -2.67910936e-22,\n",
       "        -4.01039611e-22,  2.24280360e-22, -1.64214142e-23]])"
      ]
     },
     "execution_count": 190,
     "metadata": {},
     "output_type": "execute_result"
    }
   ],
   "source": [
    "lr.coef_"
   ]
  },
  {
   "cell_type": "code",
   "execution_count": 191,
   "metadata": {},
   "outputs": [
    {
     "data": {
      "text/plain": [
       "Index(['metric1', 'metric2', 'metric3', 'metric4', 'metric5', 'metric6',\n",
       "       'metric7', 'metric9', 'month', 'week', 'day', 'dayofweek', 'm1_cumsum',\n",
       "       'm2_cumsum', 'm3_cumsum', 'm4_cumsum', 'm5_cumsum', 'm6_cumsum',\n",
       "       'm7_cumsum', 'm9_cumsum', 'S1F0', 'S1F1', 'W1F0', 'W1F1', 'Z1F0',\n",
       "       'Z1F1', 'Z1F2'],\n",
       "      dtype='object')"
      ]
     },
     "execution_count": 191,
     "metadata": {},
     "output_type": "execute_result"
    }
   ],
   "source": [
    "X_train.columns"
   ]
  },
  {
   "cell_type": "code",
   "execution_count": null,
   "metadata": {},
   "outputs": [],
   "source": []
  },
  {
   "cell_type": "markdown",
   "metadata": {},
   "source": [
    "### Naive Bayes"
   ]
  },
  {
   "cell_type": "code",
   "execution_count": 192,
   "metadata": {},
   "outputs": [],
   "source": [
    "mnb=MultinomialNB(class_prior=[0.9992,0.0008])"
   ]
  },
  {
   "cell_type": "code",
   "execution_count": 193,
   "metadata": {},
   "outputs": [
    {
     "data": {
      "text/plain": [
       "MultinomialNB(alpha=1.0, class_prior=[0.9992, 0.0008], fit_prior=True)"
      ]
     },
     "execution_count": 193,
     "metadata": {},
     "output_type": "execute_result"
    }
   ],
   "source": [
    "mnb.fit(X_train,y_train)"
   ]
  },
  {
   "cell_type": "code",
   "execution_count": 194,
   "metadata": {},
   "outputs": [],
   "source": [
    "preds=mnb.predict(X_test)"
   ]
  },
  {
   "cell_type": "code",
   "execution_count": 195,
   "metadata": {},
   "outputs": [
    {
     "data": {
      "text/plain": [
       "0.4736971424359321"
      ]
     },
     "execution_count": 195,
     "metadata": {},
     "output_type": "execute_result"
    }
   ],
   "source": [
    "accuracy_score(y_test,preds)"
   ]
  },
  {
   "cell_type": "code",
   "execution_count": 196,
   "metadata": {},
   "outputs": [
    {
     "data": {
      "text/plain": [
       "array([[19256, 21408],\n",
       "       [   12,    23]], dtype=int64)"
      ]
     },
     "execution_count": 196,
     "metadata": {},
     "output_type": "execute_result"
    }
   ],
   "source": [
    "confusion_matrix(y_test,preds)"
   ]
  },
  {
   "cell_type": "code",
   "execution_count": 197,
   "metadata": {},
   "outputs": [
    {
     "data": {
      "text/plain": [
       "0.0021429236932824"
      ]
     },
     "execution_count": 197,
     "metadata": {},
     "output_type": "execute_result"
    }
   ],
   "source": [
    "f1_score(y_test,preds)"
   ]
  },
  {
   "cell_type": "markdown",
   "metadata": {},
   "source": [
    "### Decision Tree Classifier"
   ]
  },
  {
   "cell_type": "code",
   "execution_count": 198,
   "metadata": {},
   "outputs": [],
   "source": [
    "dt=DecisionTreeClassifier(class_weight='balanced')"
   ]
  },
  {
   "cell_type": "code",
   "execution_count": 199,
   "metadata": {},
   "outputs": [
    {
     "data": {
      "text/plain": [
       "DecisionTreeClassifier(ccp_alpha=0.0, class_weight='balanced', criterion='gini',\n",
       "                       max_depth=None, max_features=None, max_leaf_nodes=None,\n",
       "                       min_impurity_decrease=0.0, min_impurity_split=None,\n",
       "                       min_samples_leaf=1, min_samples_split=2,\n",
       "                       min_weight_fraction_leaf=0.0, presort='deprecated',\n",
       "                       random_state=None, splitter='best')"
      ]
     },
     "execution_count": 199,
     "metadata": {},
     "output_type": "execute_result"
    }
   ],
   "source": [
    "dt.fit(X_train,y_train)"
   ]
  },
  {
   "cell_type": "code",
   "execution_count": 200,
   "metadata": {},
   "outputs": [],
   "source": [
    "dt_preds=dt.predict(X_test)"
   ]
  },
  {
   "cell_type": "code",
   "execution_count": 201,
   "metadata": {},
   "outputs": [
    {
     "data": {
      "text/plain": [
       "0.9818668763360279"
      ]
     },
     "execution_count": 201,
     "metadata": {},
     "output_type": "execute_result"
    }
   ],
   "source": [
    "accuracy_score(y_test,dt_preds)"
   ]
  },
  {
   "cell_type": "code",
   "execution_count": 202,
   "metadata": {},
   "outputs": [
    {
     "data": {
      "text/plain": [
       "array([[39960,   704],\n",
       "       [   34,     1]], dtype=int64)"
      ]
     },
     "execution_count": 202,
     "metadata": {},
     "output_type": "execute_result"
    }
   ],
   "source": [
    "confusion_matrix(y_test,dt_preds)"
   ]
  },
  {
   "cell_type": "code",
   "execution_count": 203,
   "metadata": {},
   "outputs": [
    {
     "data": {
      "text/plain": [
       "0.002702702702702703"
      ]
     },
     "execution_count": 203,
     "metadata": {},
     "output_type": "execute_result"
    }
   ],
   "source": [
    "f1_score(y_test,dt_preds)"
   ]
  },
  {
   "cell_type": "markdown",
   "metadata": {},
   "source": [
    "\n",
    "### RandomForestClassifier"
   ]
  },
  {
   "cell_type": "code",
   "execution_count": 254,
   "metadata": {},
   "outputs": [
    {
     "name": "stdout",
     "output_type": "stream",
     "text": [
      "Fitting 10 folds for each of 5 candidates, totalling 50 fits\n",
      "[CV] max_depth=10, min_samples_leaf=51, min_samples_split=125, n_estimators=111 \n"
     ]
    },
    {
     "name": "stderr",
     "output_type": "stream",
     "text": [
      "[Parallel(n_jobs=1)]: Using backend SequentialBackend with 1 concurrent workers.\n"
     ]
    },
    {
     "name": "stdout",
     "output_type": "stream",
     "text": [
      "[CV]  max_depth=10, min_samples_leaf=51, min_samples_split=125, n_estimators=111, total=   7.0s\n",
      "[CV] max_depth=10, min_samples_leaf=51, min_samples_split=125, n_estimators=111 \n"
     ]
    },
    {
     "name": "stderr",
     "output_type": "stream",
     "text": [
      "[Parallel(n_jobs=1)]: Done   1 out of   1 | elapsed:    7.3s remaining:    0.0s\n"
     ]
    },
    {
     "name": "stdout",
     "output_type": "stream",
     "text": [
      "[CV]  max_depth=10, min_samples_leaf=51, min_samples_split=125, n_estimators=111, total=   4.5s\n",
      "[CV] max_depth=10, min_samples_leaf=51, min_samples_split=125, n_estimators=111 \n",
      "[CV]  max_depth=10, min_samples_leaf=51, min_samples_split=125, n_estimators=111, total=   5.0s\n",
      "[CV] max_depth=10, min_samples_leaf=51, min_samples_split=125, n_estimators=111 \n",
      "[CV]  max_depth=10, min_samples_leaf=51, min_samples_split=125, n_estimators=111, total=   4.1s\n",
      "[CV] max_depth=10, min_samples_leaf=51, min_samples_split=125, n_estimators=111 \n",
      "[CV]  max_depth=10, min_samples_leaf=51, min_samples_split=125, n_estimators=111, total=   4.6s\n",
      "[CV] max_depth=10, min_samples_leaf=51, min_samples_split=125, n_estimators=111 \n",
      "[CV]  max_depth=10, min_samples_leaf=51, min_samples_split=125, n_estimators=111, total=   4.7s\n",
      "[CV] max_depth=10, min_samples_leaf=51, min_samples_split=125, n_estimators=111 \n",
      "[CV]  max_depth=10, min_samples_leaf=51, min_samples_split=125, n_estimators=111, total=   4.3s\n",
      "[CV] max_depth=10, min_samples_leaf=51, min_samples_split=125, n_estimators=111 \n",
      "[CV]  max_depth=10, min_samples_leaf=51, min_samples_split=125, n_estimators=111, total=   4.6s\n",
      "[CV] max_depth=10, min_samples_leaf=51, min_samples_split=125, n_estimators=111 \n",
      "[CV]  max_depth=10, min_samples_leaf=51, min_samples_split=125, n_estimators=111, total=   4.3s\n",
      "[CV] max_depth=10, min_samples_leaf=51, min_samples_split=125, n_estimators=111 \n",
      "[CV]  max_depth=10, min_samples_leaf=51, min_samples_split=125, n_estimators=111, total=   4.5s\n",
      "[CV] max_depth=18, min_samples_leaf=33, min_samples_split=138, n_estimators=182 \n",
      "[CV]  max_depth=18, min_samples_leaf=33, min_samples_split=138, n_estimators=182, total=   7.4s\n",
      "[CV] max_depth=18, min_samples_leaf=33, min_samples_split=138, n_estimators=182 \n",
      "[CV]  max_depth=18, min_samples_leaf=33, min_samples_split=138, n_estimators=182, total=   7.3s\n",
      "[CV] max_depth=18, min_samples_leaf=33, min_samples_split=138, n_estimators=182 \n",
      "[CV]  max_depth=18, min_samples_leaf=33, min_samples_split=138, n_estimators=182, total=   7.8s\n",
      "[CV] max_depth=18, min_samples_leaf=33, min_samples_split=138, n_estimators=182 \n",
      "[CV]  max_depth=18, min_samples_leaf=33, min_samples_split=138, n_estimators=182, total=   8.2s\n",
      "[CV] max_depth=18, min_samples_leaf=33, min_samples_split=138, n_estimators=182 \n",
      "[CV]  max_depth=18, min_samples_leaf=33, min_samples_split=138, n_estimators=182, total=   7.2s\n",
      "[CV] max_depth=18, min_samples_leaf=33, min_samples_split=138, n_estimators=182 \n",
      "[CV]  max_depth=18, min_samples_leaf=33, min_samples_split=138, n_estimators=182, total=   7.4s\n",
      "[CV] max_depth=18, min_samples_leaf=33, min_samples_split=138, n_estimators=182 \n",
      "[CV]  max_depth=18, min_samples_leaf=33, min_samples_split=138, n_estimators=182, total=   7.4s\n",
      "[CV] max_depth=18, min_samples_leaf=33, min_samples_split=138, n_estimators=182 \n",
      "[CV]  max_depth=18, min_samples_leaf=33, min_samples_split=138, n_estimators=182, total=   7.5s\n",
      "[CV] max_depth=18, min_samples_leaf=33, min_samples_split=138, n_estimators=182 \n",
      "[CV]  max_depth=18, min_samples_leaf=33, min_samples_split=138, n_estimators=182, total=   7.1s\n",
      "[CV] max_depth=18, min_samples_leaf=33, min_samples_split=138, n_estimators=182 \n",
      "[CV]  max_depth=18, min_samples_leaf=33, min_samples_split=138, n_estimators=182, total=   6.7s\n",
      "[CV] max_depth=11, min_samples_leaf=26, min_samples_split=149, n_estimators=53 \n",
      "[CV]  max_depth=11, min_samples_leaf=26, min_samples_split=149, n_estimators=53, total=   2.2s\n",
      "[CV] max_depth=11, min_samples_leaf=26, min_samples_split=149, n_estimators=53 \n",
      "[CV]  max_depth=11, min_samples_leaf=26, min_samples_split=149, n_estimators=53, total=   2.3s\n",
      "[CV] max_depth=11, min_samples_leaf=26, min_samples_split=149, n_estimators=53 \n",
      "[CV]  max_depth=11, min_samples_leaf=26, min_samples_split=149, n_estimators=53, total=   2.1s\n",
      "[CV] max_depth=11, min_samples_leaf=26, min_samples_split=149, n_estimators=53 \n",
      "[CV]  max_depth=11, min_samples_leaf=26, min_samples_split=149, n_estimators=53, total=   2.2s\n",
      "[CV] max_depth=11, min_samples_leaf=26, min_samples_split=149, n_estimators=53 \n",
      "[CV]  max_depth=11, min_samples_leaf=26, min_samples_split=149, n_estimators=53, total=   2.3s\n",
      "[CV] max_depth=11, min_samples_leaf=26, min_samples_split=149, n_estimators=53 \n",
      "[CV]  max_depth=11, min_samples_leaf=26, min_samples_split=149, n_estimators=53, total=   2.2s\n",
      "[CV] max_depth=11, min_samples_leaf=26, min_samples_split=149, n_estimators=53 \n",
      "[CV]  max_depth=11, min_samples_leaf=26, min_samples_split=149, n_estimators=53, total=   2.2s\n",
      "[CV] max_depth=11, min_samples_leaf=26, min_samples_split=149, n_estimators=53 \n",
      "[CV]  max_depth=11, min_samples_leaf=26, min_samples_split=149, n_estimators=53, total=   2.2s\n",
      "[CV] max_depth=11, min_samples_leaf=26, min_samples_split=149, n_estimators=53 \n",
      "[CV]  max_depth=11, min_samples_leaf=26, min_samples_split=149, n_estimators=53, total=   2.0s\n",
      "[CV] max_depth=11, min_samples_leaf=26, min_samples_split=149, n_estimators=53 \n",
      "[CV]  max_depth=11, min_samples_leaf=26, min_samples_split=149, n_estimators=53, total=   2.3s\n",
      "[CV] max_depth=9, min_samples_leaf=45, min_samples_split=155, n_estimators=181 \n",
      "[CV]  max_depth=9, min_samples_leaf=45, min_samples_split=155, n_estimators=181, total=   6.9s\n",
      "[CV] max_depth=9, min_samples_leaf=45, min_samples_split=155, n_estimators=181 \n",
      "[CV]  max_depth=9, min_samples_leaf=45, min_samples_split=155, n_estimators=181, total=   6.5s\n",
      "[CV] max_depth=9, min_samples_leaf=45, min_samples_split=155, n_estimators=181 \n",
      "[CV]  max_depth=9, min_samples_leaf=45, min_samples_split=155, n_estimators=181, total=   6.4s\n",
      "[CV] max_depth=9, min_samples_leaf=45, min_samples_split=155, n_estimators=181 \n",
      "[CV]  max_depth=9, min_samples_leaf=45, min_samples_split=155, n_estimators=181, total=   7.1s\n",
      "[CV] max_depth=9, min_samples_leaf=45, min_samples_split=155, n_estimators=181 \n",
      "[CV]  max_depth=9, min_samples_leaf=45, min_samples_split=155, n_estimators=181, total=   6.7s\n",
      "[CV] max_depth=9, min_samples_leaf=45, min_samples_split=155, n_estimators=181 \n",
      "[CV]  max_depth=9, min_samples_leaf=45, min_samples_split=155, n_estimators=181, total=   6.4s\n",
      "[CV] max_depth=9, min_samples_leaf=45, min_samples_split=155, n_estimators=181 \n",
      "[CV]  max_depth=9, min_samples_leaf=45, min_samples_split=155, n_estimators=181, total=   6.5s\n",
      "[CV] max_depth=9, min_samples_leaf=45, min_samples_split=155, n_estimators=181 \n",
      "[CV]  max_depth=9, min_samples_leaf=45, min_samples_split=155, n_estimators=181, total=   6.5s\n",
      "[CV] max_depth=9, min_samples_leaf=45, min_samples_split=155, n_estimators=181 \n",
      "[CV]  max_depth=9, min_samples_leaf=45, min_samples_split=155, n_estimators=181, total=   6.3s\n",
      "[CV] max_depth=9, min_samples_leaf=45, min_samples_split=155, n_estimators=181 \n",
      "[CV]  max_depth=9, min_samples_leaf=45, min_samples_split=155, n_estimators=181, total=   6.9s\n",
      "[CV] max_depth=7, min_samples_leaf=47, min_samples_split=141, n_estimators=98 \n",
      "[CV]  max_depth=7, min_samples_leaf=47, min_samples_split=141, n_estimators=98, total=   3.4s\n",
      "[CV] max_depth=7, min_samples_leaf=47, min_samples_split=141, n_estimators=98 \n",
      "[CV]  max_depth=7, min_samples_leaf=47, min_samples_split=141, n_estimators=98, total=   3.5s\n",
      "[CV] max_depth=7, min_samples_leaf=47, min_samples_split=141, n_estimators=98 \n",
      "[CV]  max_depth=7, min_samples_leaf=47, min_samples_split=141, n_estimators=98, total=   3.3s\n",
      "[CV] max_depth=7, min_samples_leaf=47, min_samples_split=141, n_estimators=98 \n",
      "[CV]  max_depth=7, min_samples_leaf=47, min_samples_split=141, n_estimators=98, total=   3.7s\n",
      "[CV] max_depth=7, min_samples_leaf=47, min_samples_split=141, n_estimators=98 \n",
      "[CV]  max_depth=7, min_samples_leaf=47, min_samples_split=141, n_estimators=98, total=   3.7s\n",
      "[CV] max_depth=7, min_samples_leaf=47, min_samples_split=141, n_estimators=98 \n",
      "[CV]  max_depth=7, min_samples_leaf=47, min_samples_split=141, n_estimators=98, total=   3.4s\n",
      "[CV] max_depth=7, min_samples_leaf=47, min_samples_split=141, n_estimators=98 \n",
      "[CV]  max_depth=7, min_samples_leaf=47, min_samples_split=141, n_estimators=98, total=   3.1s\n",
      "[CV] max_depth=7, min_samples_leaf=47, min_samples_split=141, n_estimators=98 \n",
      "[CV]  max_depth=7, min_samples_leaf=47, min_samples_split=141, n_estimators=98, total=   3.6s\n",
      "[CV] max_depth=7, min_samples_leaf=47, min_samples_split=141, n_estimators=98 \n"
     ]
    },
    {
     "name": "stdout",
     "output_type": "stream",
     "text": [
      "[CV]  max_depth=7, min_samples_leaf=47, min_samples_split=141, n_estimators=98, total=   3.4s\n",
      "[CV] max_depth=7, min_samples_leaf=47, min_samples_split=141, n_estimators=98 \n",
      "[CV]  max_depth=7, min_samples_leaf=47, min_samples_split=141, n_estimators=98, total=   3.5s\n"
     ]
    },
    {
     "name": "stderr",
     "output_type": "stream",
     "text": [
      "[Parallel(n_jobs=1)]: Done  50 out of  50 | elapsed:  4.4min finished\n"
     ]
    },
    {
     "data": {
      "text/plain": [
       "RandomizedSearchCV(cv=10, error_score=nan,\n",
       "                   estimator=RandomForestClassifier(bootstrap=True,\n",
       "                                                    ccp_alpha=0.0,\n",
       "                                                    class_weight='balanced',\n",
       "                                                    criterion='gini',\n",
       "                                                    max_depth=None,\n",
       "                                                    max_features='auto',\n",
       "                                                    max_leaf_nodes=None,\n",
       "                                                    max_samples=None,\n",
       "                                                    min_impurity_decrease=0.0,\n",
       "                                                    min_impurity_split=None,\n",
       "                                                    min_samples_leaf=1,\n",
       "                                                    min_samples_split=2,\n",
       "                                                    min_weight_fraction_leaf=0.0,\n",
       "                                                    n_estimators=100...\n",
       "                                        'min_samples_leaf': <scipy.stats._distn_infrastructure.rv_frozen object at 0x000001E9638C12B0>,\n",
       "                                        'min_samples_split': <scipy.stats._distn_infrastructure.rv_frozen object at 0x000001E9638C1630>,\n",
       "                                        'n_estimators': <scipy.stats._distn_infrastructure.rv_frozen object at 0x000001E9638C18D0>},\n",
       "                   pre_dispatch='2*n_jobs', random_state=25, refit=True,\n",
       "                   return_train_score=True, scoring='f1', verbose=2)"
      ]
     },
     "execution_count": 254,
     "metadata": {},
     "output_type": "execute_result"
    }
   ],
   "source": [
    "param_dist = {\"n_estimators\":sp.stats.randint(50,300),\n",
    "              \"max_depth\": sp.stats.randint(6,24),\n",
    "              \"min_samples_split\": sp.stats.randint(110,190),\n",
    "              \"min_samples_leaf\": sp.stats.randint(25,65)}\n",
    "\n",
    "clf = RandomForestClassifier(class_weight='balanced',random_state=25,n_jobs=-1)\n",
    "\n",
    "rf_random = RandomizedSearchCV(clf, param_distributions=param_dist,n_iter=5,cv=10,scoring='f1',return_train_score=True,random_state=25,verbose=2)\n",
    "\n",
    "rf_random.fit(X_train,y_train)\n"
   ]
  },
  {
   "cell_type": "code",
   "execution_count": 255,
   "metadata": {},
   "outputs": [
    {
     "name": "stdout",
     "output_type": "stream",
     "text": [
      "mean test scores [0.09927685 0.10593896 0.10718831 0.09610304 0.0651672 ]\n",
      "mean train scores [0.28342062 0.39304509 0.32092503 0.24653041 0.14511937]\n"
     ]
    }
   ],
   "source": [
    "print('mean test scores',rf_random.cv_results_['mean_test_score'])\n",
    "print('mean train scores',rf_random.cv_results_['mean_train_score'])"
   ]
  },
  {
   "cell_type": "code",
   "execution_count": 256,
   "metadata": {},
   "outputs": [
    {
     "name": "stdout",
     "output_type": "stream",
     "text": [
      "RandomForestClassifier(bootstrap=True, ccp_alpha=0.0, class_weight='balanced',\n",
      "                       criterion='gini', max_depth=11, max_features='auto',\n",
      "                       max_leaf_nodes=None, max_samples=None,\n",
      "                       min_impurity_decrease=0.0, min_impurity_split=None,\n",
      "                       min_samples_leaf=26, min_samples_split=149,\n",
      "                       min_weight_fraction_leaf=0.0, n_estimators=53, n_jobs=-1,\n",
      "                       oob_score=False, random_state=25, verbose=0,\n",
      "                       warm_start=False)\n"
     ]
    }
   ],
   "source": [
    "print(rf_random.best_estimator_)"
   ]
  },
  {
   "cell_type": "code",
   "execution_count": null,
   "metadata": {},
   "outputs": [],
   "source": []
  },
  {
   "cell_type": "code",
   "execution_count": null,
   "metadata": {},
   "outputs": [],
   "source": []
  },
  {
   "cell_type": "code",
   "execution_count": 257,
   "metadata": {},
   "outputs": [],
   "source": [
    "rfc=rf_random.best_estimator_"
   ]
  },
  {
   "cell_type": "code",
   "execution_count": 258,
   "metadata": {},
   "outputs": [
    {
     "data": {
      "text/plain": [
       "RandomForestClassifier(bootstrap=True, ccp_alpha=0.0, class_weight='balanced',\n",
       "                       criterion='gini', max_depth=11, max_features='auto',\n",
       "                       max_leaf_nodes=None, max_samples=None,\n",
       "                       min_impurity_decrease=0.0, min_impurity_split=None,\n",
       "                       min_samples_leaf=26, min_samples_split=149,\n",
       "                       min_weight_fraction_leaf=0.0, n_estimators=53, n_jobs=-1,\n",
       "                       oob_score=False, random_state=25, verbose=0,\n",
       "                       warm_start=False)"
      ]
     },
     "execution_count": 258,
     "metadata": {},
     "output_type": "execute_result"
    }
   ],
   "source": [
    "rfc.fit(X_train,y_train)"
   ]
  },
  {
   "cell_type": "code",
   "execution_count": 259,
   "metadata": {},
   "outputs": [],
   "source": [
    "rfc_preds=rfc.predict(X_test)"
   ]
  },
  {
   "cell_type": "code",
   "execution_count": 260,
   "metadata": {},
   "outputs": [
    {
     "data": {
      "text/plain": [
       "0.9931447947124008"
      ]
     },
     "execution_count": 260,
     "metadata": {},
     "output_type": "execute_result"
    }
   ],
   "source": [
    "accuracy_score(y_test,rfc_preds)"
   ]
  },
  {
   "cell_type": "code",
   "execution_count": 261,
   "metadata": {},
   "outputs": [
    {
     "data": {
      "text/plain": [
       "array([[40410,   254],\n",
       "       [   25,    10]], dtype=int64)"
      ]
     },
     "execution_count": 261,
     "metadata": {},
     "output_type": "execute_result"
    }
   ],
   "source": [
    "confusion_matrix(y_test,rfc_preds)"
   ]
  },
  {
   "cell_type": "code",
   "execution_count": 262,
   "metadata": {},
   "outputs": [
    {
     "data": {
      "text/plain": [
       "0.06688963210702341"
      ]
     },
     "execution_count": 262,
     "metadata": {},
     "output_type": "execute_result"
    }
   ],
   "source": [
    "f1_score(y_test,rfc_preds)"
   ]
  },
  {
   "cell_type": "markdown",
   "metadata": {},
   "source": [
    "### KNN"
   ]
  },
  {
   "cell_type": "code",
   "execution_count": 95,
   "metadata": {},
   "outputs": [],
   "source": [
    "knn=KNeighborsClassifier(n_neighbors=50)"
   ]
  },
  {
   "cell_type": "code",
   "execution_count": 96,
   "metadata": {},
   "outputs": [
    {
     "data": {
      "text/plain": [
       "KNeighborsClassifier(algorithm='auto', leaf_size=30, metric='minkowski',\n",
       "                     metric_params=None, n_jobs=None, n_neighbors=50, p=2,\n",
       "                     weights='uniform')"
      ]
     },
     "execution_count": 96,
     "metadata": {},
     "output_type": "execute_result"
    }
   ],
   "source": [
    "knn.fit(X_train,y_train)"
   ]
  },
  {
   "cell_type": "code",
   "execution_count": 97,
   "metadata": {},
   "outputs": [],
   "source": [
    "knn_preds=knn.predict(X_test)"
   ]
  },
  {
   "cell_type": "code",
   "execution_count": 98,
   "metadata": {},
   "outputs": [
    {
     "data": {
      "text/plain": [
       "0.9991400280105163"
      ]
     },
     "execution_count": 98,
     "metadata": {},
     "output_type": "execute_result"
    }
   ],
   "source": [
    "accuracy_score(y_test,knn_preds)"
   ]
  },
  {
   "cell_type": "code",
   "execution_count": 99,
   "metadata": {},
   "outputs": [
    {
     "data": {
      "text/plain": [
       "array([[40664,     0],\n",
       "       [   35,     0]], dtype=int64)"
      ]
     },
     "execution_count": 99,
     "metadata": {},
     "output_type": "execute_result"
    }
   ],
   "source": [
    "confusion_matrix(y_test,knn_preds)"
   ]
  },
  {
   "cell_type": "code",
   "execution_count": 100,
   "metadata": {},
   "outputs": [
    {
     "data": {
      "text/plain": [
       "0.0"
      ]
     },
     "execution_count": 100,
     "metadata": {},
     "output_type": "execute_result"
    }
   ],
   "source": [
    "f1_score(y_test,knn_preds)"
   ]
  },
  {
   "cell_type": "markdown",
   "metadata": {},
   "source": [
    "### XGBoost"
   ]
  },
  {
   "cell_type": "code",
   "execution_count": 264,
   "metadata": {},
   "outputs": [
    {
     "name": "stdout",
     "output_type": "stream",
     "text": [
      "Fitting 10 folds for each of 5 candidates, totalling 50 fits\n",
      "[CV] max_depth=14, n_estimators=92 ...................................\n"
     ]
    },
    {
     "name": "stderr",
     "output_type": "stream",
     "text": [
      "[Parallel(n_jobs=1)]: Using backend SequentialBackend with 1 concurrent workers.\n"
     ]
    },
    {
     "name": "stdout",
     "output_type": "stream",
     "text": [
      "[CV] .................... max_depth=14, n_estimators=92, total=  59.3s\n",
      "[CV] max_depth=14, n_estimators=92 ...................................\n"
     ]
    },
    {
     "name": "stderr",
     "output_type": "stream",
     "text": [
      "[Parallel(n_jobs=1)]: Done   1 out of   1 | elapsed:  1.0min remaining:    0.0s\n"
     ]
    },
    {
     "name": "stdout",
     "output_type": "stream",
     "text": [
      "[CV] .................... max_depth=14, n_estimators=92, total= 1.7min\n",
      "[CV] max_depth=14, n_estimators=92 ...................................\n",
      "[CV] .................... max_depth=14, n_estimators=92, total= 1.7min\n",
      "[CV] max_depth=14, n_estimators=92 ...................................\n",
      "[CV] .................... max_depth=14, n_estimators=92, total= 1.9min\n",
      "[CV] max_depth=14, n_estimators=92 ...................................\n",
      "[CV] .................... max_depth=14, n_estimators=92, total= 2.1min\n",
      "[CV] max_depth=14, n_estimators=92 ...................................\n",
      "[CV] .................... max_depth=14, n_estimators=92, total= 2.1min\n",
      "[CV] max_depth=14, n_estimators=92 ...................................\n",
      "[CV] .................... max_depth=14, n_estimators=92, total= 2.0min\n",
      "[CV] max_depth=14, n_estimators=92 ...................................\n",
      "[CV] .................... max_depth=14, n_estimators=92, total= 2.2min\n",
      "[CV] max_depth=14, n_estimators=92 ...................................\n",
      "[CV] .................... max_depth=14, n_estimators=92, total= 2.1min\n",
      "[CV] max_depth=14, n_estimators=92 ...................................\n",
      "[CV] .................... max_depth=14, n_estimators=92, total= 2.2min\n",
      "[CV] max_depth=36, n_estimators=91 ...................................\n",
      "[CV] .................... max_depth=36, n_estimators=91, total= 1.7min\n",
      "[CV] max_depth=36, n_estimators=91 ...................................\n",
      "[CV] .................... max_depth=36, n_estimators=91, total= 1.7min\n",
      "[CV] max_depth=36, n_estimators=91 ...................................\n",
      "[CV] .................... max_depth=36, n_estimators=91, total= 1.8min\n",
      "[CV] max_depth=36, n_estimators=91 ...................................\n",
      "[CV] .................... max_depth=36, n_estimators=91, total= 1.8min\n",
      "[CV] max_depth=36, n_estimators=91 ...................................\n",
      "[CV] .................... max_depth=36, n_estimators=91, total= 1.7min\n",
      "[CV] max_depth=36, n_estimators=91 ...................................\n",
      "[CV] .................... max_depth=36, n_estimators=91, total= 1.8min\n",
      "[CV] max_depth=36, n_estimators=91 ...................................\n",
      "[CV] .................... max_depth=36, n_estimators=91, total= 1.7min\n",
      "[CV] max_depth=36, n_estimators=91 ...................................\n",
      "[CV] .................... max_depth=36, n_estimators=91, total= 1.7min\n",
      "[CV] max_depth=36, n_estimators=91 ...................................\n",
      "[CV] .................... max_depth=36, n_estimators=91, total= 1.7min\n",
      "[CV] max_depth=36, n_estimators=91 ...................................\n",
      "[CV] .................... max_depth=36, n_estimators=91, total= 1.8min\n",
      "[CV] max_depth=33, n_estimators=166 ..................................\n",
      "[CV] ................... max_depth=33, n_estimators=166, total= 3.5min\n",
      "[CV] max_depth=33, n_estimators=166 ..................................\n",
      "[CV] ................... max_depth=33, n_estimators=166, total= 3.4min\n",
      "[CV] max_depth=33, n_estimators=166 ..................................\n",
      "[CV] ................... max_depth=33, n_estimators=166, total= 3.6min\n",
      "[CV] max_depth=33, n_estimators=166 ..................................\n",
      "[CV] ................... max_depth=33, n_estimators=166, total= 3.4min\n",
      "[CV] max_depth=33, n_estimators=166 ..................................\n",
      "[CV] ................... max_depth=33, n_estimators=166, total= 3.6min\n",
      "[CV] max_depth=33, n_estimators=166 ..................................\n",
      "[CV] ................... max_depth=33, n_estimators=166, total= 3.8min\n",
      "[CV] max_depth=33, n_estimators=166 ..................................\n",
      "[CV] ................... max_depth=33, n_estimators=166, total= 3.6min\n",
      "[CV] max_depth=33, n_estimators=166 ..................................\n",
      "[CV] ................... max_depth=33, n_estimators=166, total= 3.6min\n",
      "[CV] max_depth=33, n_estimators=166 ..................................\n",
      "[CV] ................... max_depth=33, n_estimators=166, total= 3.4min\n",
      "[CV] max_depth=33, n_estimators=166 ..................................\n",
      "[CV] ................... max_depth=33, n_estimators=166, total= 3.4min\n",
      "[CV] max_depth=38, n_estimators=162 ..................................\n",
      "[CV] ................... max_depth=38, n_estimators=162, total= 3.8min\n",
      "[CV] max_depth=38, n_estimators=162 ..................................\n",
      "[CV] ................... max_depth=38, n_estimators=162, total= 3.5min\n",
      "[CV] max_depth=38, n_estimators=162 ..................................\n",
      "[CV] ................... max_depth=38, n_estimators=162, total= 3.3min\n",
      "[CV] max_depth=38, n_estimators=162 ..................................\n",
      "[CV] ................... max_depth=38, n_estimators=162, total= 3.3min\n",
      "[CV] max_depth=38, n_estimators=162 ..................................\n",
      "[CV] ................... max_depth=38, n_estimators=162, total= 3.3min\n",
      "[CV] max_depth=38, n_estimators=162 ..................................\n",
      "[CV] ................... max_depth=38, n_estimators=162, total= 3.0min\n",
      "[CV] max_depth=38, n_estimators=162 ..................................\n",
      "[CV] ................... max_depth=38, n_estimators=162, total= 3.3min\n",
      "[CV] max_depth=38, n_estimators=162 ..................................\n",
      "[CV] ................... max_depth=38, n_estimators=162, total= 4.3min\n",
      "[CV] max_depth=38, n_estimators=162 ..................................\n",
      "[CV] ................... max_depth=38, n_estimators=162, total= 4.4min\n",
      "[CV] max_depth=38, n_estimators=162 ..................................\n",
      "[CV] ................... max_depth=38, n_estimators=162, total= 4.6min\n",
      "[CV] max_depth=35, n_estimators=159 ..................................\n",
      "[CV] ................... max_depth=35, n_estimators=159, total= 4.7min\n",
      "[CV] max_depth=35, n_estimators=159 ..................................\n",
      "[CV] ................... max_depth=35, n_estimators=159, total= 5.3min\n",
      "[CV] max_depth=35, n_estimators=159 ..................................\n",
      "[CV] ................... max_depth=35, n_estimators=159, total= 6.1min\n",
      "[CV] max_depth=35, n_estimators=159 ..................................\n",
      "[CV] ................... max_depth=35, n_estimators=159, total= 4.4min\n",
      "[CV] max_depth=35, n_estimators=159 ..................................\n",
      "[CV] ................... max_depth=35, n_estimators=159, total= 5.0min\n",
      "[CV] max_depth=35, n_estimators=159 ..................................\n",
      "[CV] ................... max_depth=35, n_estimators=159, total= 3.9min\n",
      "[CV] max_depth=35, n_estimators=159 ..................................\n",
      "[CV] ................... max_depth=35, n_estimators=159, total= 3.7min\n",
      "[CV] max_depth=35, n_estimators=159 ..................................\n",
      "[CV] ................... max_depth=35, n_estimators=159, total= 3.7min\n",
      "[CV] max_depth=35, n_estimators=159 ..................................\n",
      "[CV] ................... max_depth=35, n_estimators=159, total= 3.5min\n",
      "[CV] max_depth=35, n_estimators=159 ..................................\n",
      "[CV] ................... max_depth=35, n_estimators=159, total= 3.9min\n"
     ]
    },
    {
     "name": "stderr",
     "output_type": "stream",
     "text": [
      "[Parallel(n_jobs=1)]: Done  50 out of  50 | elapsed: 155.6min finished\n"
     ]
    },
    {
     "data": {
      "text/plain": [
       "RandomizedSearchCV(cv=10, error_score=nan,\n",
       "                   estimator=XGBClassifier(base_score=0.5, booster='gbtree',\n",
       "                                           colsample_bylevel=1,\n",
       "                                           colsample_bynode=1,\n",
       "                                           colsample_bytree=1, gamma=0,\n",
       "                                           learning_rate=0.1, max_delta_step=0,\n",
       "                                           max_depth=3, min_child_weight=1,\n",
       "                                           missing=None, n_estimators=100,\n",
       "                                           n_jobs=1, nthread=None,\n",
       "                                           objective='binary:logistic',\n",
       "                                           random_state=0, reg_alpha=0,\n",
       "                                           reg_lambda=1, s...\n",
       "                                           seed=None, silent=None, subsample=1,\n",
       "                                           verbosity=1),\n",
       "                   iid='deprecated', n_iter=5, n_jobs=None,\n",
       "                   param_distributions={'max_depth': <scipy.stats._distn_infrastructure.rv_frozen object at 0x000001E94641E780>,\n",
       "                                        'n_estimators': <scipy.stats._distn_infrastructure.rv_frozen object at 0x000001E94641EEF0>},\n",
       "                   pre_dispatch='2*n_jobs', random_state=25, refit=True,\n",
       "                   return_train_score=True, scoring='f1', verbose=2)"
      ]
     },
     "execution_count": 264,
     "metadata": {},
     "output_type": "execute_result"
    }
   ],
   "source": [
    "param_dist = {\"n_estimators\":sp.stats.randint(30,170),\n",
    "              \"max_depth\": sp.stats.randint(10,47)}\n",
    "\n",
    "clf = XGBClassifier(scale_pos_weight=0.998)\n",
    "\n",
    "xgb_random = RandomizedSearchCV(clf, param_distributions=param_dist,n_iter=5,cv=10,scoring='f1',return_train_score=True,random_state=25,verbose=2)\n",
    "\n",
    "xgb_random.fit(X_train,y_train)"
   ]
  },
  {
   "cell_type": "code",
   "execution_count": 265,
   "metadata": {},
   "outputs": [
    {
     "data": {
      "text/plain": [
       "XGBClassifier(base_score=0.5, booster='gbtree', colsample_bylevel=1,\n",
       "              colsample_bynode=1, colsample_bytree=1, gamma=0,\n",
       "              learning_rate=0.1, max_delta_step=0, max_depth=14,\n",
       "              min_child_weight=1, missing=None, n_estimators=92, n_jobs=1,\n",
       "              nthread=None, objective='binary:logistic', random_state=0,\n",
       "              reg_alpha=0, reg_lambda=1, scale_pos_weight=0.998, seed=None,\n",
       "              silent=None, subsample=1, verbosity=1)"
      ]
     },
     "execution_count": 265,
     "metadata": {},
     "output_type": "execute_result"
    }
   ],
   "source": [
    "xgb_random.best_estimator_"
   ]
  },
  {
   "cell_type": "code",
   "execution_count": null,
   "metadata": {},
   "outputs": [],
   "source": []
  },
  {
   "cell_type": "code",
   "execution_count": 266,
   "metadata": {},
   "outputs": [],
   "source": [
    "xgb=xgb_random.best_estimator_"
   ]
  },
  {
   "cell_type": "code",
   "execution_count": 267,
   "metadata": {},
   "outputs": [
    {
     "data": {
      "text/plain": [
       "XGBClassifier(base_score=0.5, booster='gbtree', colsample_bylevel=1,\n",
       "              colsample_bynode=1, colsample_bytree=1, gamma=0,\n",
       "              learning_rate=0.1, max_delta_step=0, max_depth=14,\n",
       "              min_child_weight=1, missing=None, n_estimators=92, n_jobs=1,\n",
       "              nthread=None, objective='binary:logistic', random_state=0,\n",
       "              reg_alpha=0, reg_lambda=1, scale_pos_weight=0.998, seed=None,\n",
       "              silent=None, subsample=1, verbosity=1)"
      ]
     },
     "execution_count": 267,
     "metadata": {},
     "output_type": "execute_result"
    }
   ],
   "source": [
    "xgb.fit(X_train,y_train)"
   ]
  },
  {
   "cell_type": "code",
   "execution_count": 268,
   "metadata": {},
   "outputs": [],
   "source": [
    "xgb_preds=xgb.predict(X_test)"
   ]
  },
  {
   "cell_type": "code",
   "execution_count": 269,
   "metadata": {},
   "outputs": [
    {
     "data": {
      "text/plain": [
       "0.9986731860733679"
      ]
     },
     "execution_count": 269,
     "metadata": {},
     "output_type": "execute_result"
    }
   ],
   "source": [
    "accuracy_score(y_test,xgb_preds)"
   ]
  },
  {
   "cell_type": "code",
   "execution_count": 270,
   "metadata": {},
   "outputs": [
    {
     "data": {
      "text/plain": [
       "array([[40641,    23],\n",
       "       [   31,     4]], dtype=int64)"
      ]
     },
     "execution_count": 270,
     "metadata": {},
     "output_type": "execute_result"
    }
   ],
   "source": [
    "confusion_matrix(y_test,xgb_preds)"
   ]
  },
  {
   "cell_type": "code",
   "execution_count": 271,
   "metadata": {},
   "outputs": [
    {
     "data": {
      "text/plain": [
       "0.12903225806451613"
      ]
     },
     "execution_count": 271,
     "metadata": {},
     "output_type": "execute_result"
    }
   ],
   "source": [
    "f1_score(y_test,xgb_preds)"
   ]
  },
  {
   "cell_type": "code",
   "execution_count": null,
   "metadata": {},
   "outputs": [],
   "source": []
  },
  {
   "cell_type": "code",
   "execution_count": 108,
   "metadata": {},
   "outputs": [
    {
     "ename": "NameError",
     "evalue": "name 'metrics' is not defined",
     "output_type": "error",
     "traceback": [
      "\u001b[1;31m---------------------------------------------------------------------------\u001b[0m",
      "\u001b[1;31mNameError\u001b[0m                                 Traceback (most recent call last)",
      "\u001b[1;32m<ipython-input-108-c0f3e30fcdbf>\u001b[0m in \u001b[0;36m<module>\u001b[1;34m\u001b[0m\n\u001b[0;32m      5\u001b[0m \u001b[0mpreds_y_svm\u001b[0m \u001b[1;33m=\u001b[0m \u001b[0msvm_model\u001b[0m\u001b[1;33m.\u001b[0m\u001b[0mpredict\u001b[0m\u001b[1;33m(\u001b[0m\u001b[0mX_test\u001b[0m\u001b[1;33m)\u001b[0m\u001b[1;33m\u001b[0m\u001b[1;33m\u001b[0m\u001b[0m\n\u001b[0;32m      6\u001b[0m \u001b[1;33m\u001b[0m\u001b[0m\n\u001b[1;32m----> 7\u001b[1;33m \u001b[0mprint\u001b[0m\u001b[1;33m(\u001b[0m\u001b[1;34m\"F1 score: %f\"\u001b[0m \u001b[1;33m%\u001b[0m \u001b[0mmetrics\u001b[0m\u001b[1;33m.\u001b[0m\u001b[0mf1_score\u001b[0m\u001b[1;33m(\u001b[0m\u001b[0my_test\u001b[0m\u001b[1;33m,\u001b[0m \u001b[0mnp\u001b[0m\u001b[1;33m.\u001b[0m\u001b[0mround\u001b[0m\u001b[1;33m(\u001b[0m\u001b[0mpreds_y_svm\u001b[0m\u001b[1;33m)\u001b[0m\u001b[1;33m)\u001b[0m\u001b[1;33m)\u001b[0m\u001b[1;33m\u001b[0m\u001b[1;33m\u001b[0m\u001b[0m\n\u001b[0m\u001b[0;32m      8\u001b[0m \u001b[0mprint\u001b[0m\u001b[1;33m(\u001b[0m\u001b[1;34m\"ROC AUC score: %f\"\u001b[0m \u001b[1;33m%\u001b[0m \u001b[0mmetrics\u001b[0m\u001b[1;33m.\u001b[0m\u001b[0mroc_auc_score\u001b[0m\u001b[1;33m(\u001b[0m\u001b[0mtest_y\u001b[0m\u001b[1;33m,\u001b[0m \u001b[0mpreds_y_svm\u001b[0m\u001b[1;33m)\u001b[0m\u001b[1;33m)\u001b[0m\u001b[1;33m\u001b[0m\u001b[1;33m\u001b[0m\u001b[0m\n\u001b[0;32m      9\u001b[0m \u001b[0mprint\u001b[0m\u001b[1;33m(\u001b[0m\u001b[0mmetrics\u001b[0m\u001b[1;33m.\u001b[0m\u001b[0mconfusion_matrix\u001b[0m\u001b[1;33m(\u001b[0m\u001b[0my_test\u001b[0m\u001b[1;33m,\u001b[0m \u001b[0mnp\u001b[0m\u001b[1;33m.\u001b[0m\u001b[0mround\u001b[0m\u001b[1;33m(\u001b[0m\u001b[0mpreds_y_svm\u001b[0m\u001b[1;33m)\u001b[0m\u001b[1;33m)\u001b[0m\u001b[1;33m)\u001b[0m\u001b[1;33m\u001b[0m\u001b[1;33m\u001b[0m\u001b[0m\n",
      "\u001b[1;31mNameError\u001b[0m: name 'metrics' is not defined"
     ]
    }
   ],
   "source": [
    "from sklearn.svm import LinearSVC\n",
    "\n",
    "svm_model = LinearSVC()\n",
    "svm_model.fit(X_train, y_train)\n",
    "preds_y_svm = svm_model.predict(X_test)\n",
    "\n"
   ]
  },
  {
   "cell_type": "code",
   "execution_count": 112,
   "metadata": {},
   "outputs": [
    {
     "name": "stdout",
     "output_type": "stream",
     "text": [
      "F1 score: 0.000000\n",
      "ROC AUC score: 0.500000\n",
      "[[40664     0]\n",
      " [   35     0]]\n"
     ]
    }
   ],
   "source": [
    "print(\"F1 score: %f\" % f1_score(y_test, np.round(preds_y_svm)))\n",
    "print(\"ROC AUC score: %f\" % roc_auc_score(y_test, preds_y_svm))\n",
    "print(confusion_matrix(y_test, np.round(preds_y_svm)))"
   ]
  },
  {
   "cell_type": "code",
   "execution_count": 116,
   "metadata": {},
   "outputs": [
    {
     "data": {
      "text/plain": [
       "(82630, 19)"
      ]
     },
     "execution_count": 116,
     "metadata": {},
     "output_type": "execute_result"
    }
   ],
   "source": [
    "X_train.shape"
   ]
  },
  {
   "cell_type": "code",
   "execution_count": 272,
   "metadata": {},
   "outputs": [],
   "source": [
    "from tensorflow.keras.models import Sequential\n",
    "from tensorflow.keras.layers import Dense, AlphaDropout\n",
    "\n",
    "def prepare_dnn_binary_classifier(input_dim, \n",
    "                                  num_layers, \n",
    "                                  diminish_factor, \n",
    "                                  use_dropout=False, \n",
    "                                  dropout_factor=0.3, \n",
    "                                  optimizer = \"adam\"):\n",
    "    model = Sequential()\n",
    "    model.add(Dense(input_dim, \n",
    "                    input_dim=input_dim, \n",
    "                    activation=\"selu\", \n",
    "                    kernel_initializer='lecun_normal'))\n",
    "\n",
    "    if use_dropout:\n",
    "            model.add(AlphaDropout(dropout_factor))\n",
    "\n",
    "    carried_size = input_dim\n",
    "\n",
    "    for layer in range(num_layers - 1):\n",
    "        carried_size = int(max(carried_size / diminish_factor, 1))\n",
    "        model.add(Dense(carried_size, \n",
    "                        activation=\"selu\", \n",
    "                        kernel_initializer='lecun_normal'))\n",
    "\n",
    "        if use_dropout:\n",
    "            model.add(AlphaDropout(dropout_factor))\n",
    "\n",
    "    model.add(Dense(1, activation=\"sigmoid\"))\n",
    "\n",
    "    model.compile(optimizer=optimizer, \n",
    "                  loss='binary_crossentropy', \n",
    "                  metrics=['accuracy'])\n",
    "\n",
    "    return model"
   ]
  },
  {
   "cell_type": "code",
   "execution_count": 275,
   "metadata": {},
   "outputs": [
    {
     "name": "stdout",
     "output_type": "stream",
     "text": [
      "Train on 82630 samples, validate on 40699 samples\n",
      "Epoch 1/5\n",
      "82630/82630 [==============================] - 72s 866us/sample - loss: 413242.0339 - acc: 0.9980 - val_loss: 283443.4782 - val_acc: 0.9991\n",
      "Epoch 2/5\n",
      "82630/82630 [==============================] - 61s 735us/sample - loss: 537469.2312 - acc: 0.9980 - val_loss: 747655.3279 - val_acc: 0.9991\n",
      "Epoch 3/5\n",
      "82630/82630 [==============================] - 73s 888us/sample - loss: 492597.7047 - acc: 0.9980 - val_loss: 846928.0885 - val_acc: 0.9991\n",
      "Epoch 4/5\n",
      "82630/82630 [==============================] - 68s 826us/sample - loss: 549033.7407 - acc: 0.9983 - val_loss: 746997.6737 - val_acc: 0.9991\n",
      "Epoch 5/5\n",
      "82630/82630 [==============================] - 70s 842us/sample - loss: 455607.4416 - acc: 0.9980 - val_loss: 1010245.2214 - val_acc: 0.9991\n",
      "F1 score: 0.000000\n",
      "ROC AUC score: 0.500000\n",
      "[[40664     0]\n",
      " [   35     0]]\n"
     ]
    }
   ],
   "source": [
    "model = prepare_dnn_binary_classifier(27, 1, 2, use_dropout=False)\n",
    "model.fit(X_train, \n",
    "          y_train, \n",
    "          epochs=5, \n",
    "          validation_data=[X_test, y_test])\n",
    "\n",
    "preds_y = model.predict(X_test)\n",
    "\n",
    "print(\"F1 score: %f\" % f1_score(y_test, np.round(preds_y)))\n",
    "print(\"ROC AUC score: %f\" % roc_auc_score(y_test, preds_y))\n",
    "print(confusion_matrix(y_test, np.round(preds_y)))"
   ]
  },
  {
   "cell_type": "code",
   "execution_count": null,
   "metadata": {},
   "outputs": [],
   "source": []
  },
  {
   "cell_type": "code",
   "execution_count": null,
   "metadata": {},
   "outputs": [],
   "source": []
  }
 ],
 "metadata": {
  "kernelspec": {
   "display_name": "Python 3",
   "language": "python",
   "name": "python3"
  },
  "language_info": {
   "codemirror_mode": {
    "name": "ipython",
    "version": 3
   },
   "file_extension": ".py",
   "mimetype": "text/x-python",
   "name": "python",
   "nbconvert_exporter": "python",
   "pygments_lexer": "ipython3",
   "version": "3.7.3"
  }
 },
 "nbformat": 4,
 "nbformat_minor": 4
}
